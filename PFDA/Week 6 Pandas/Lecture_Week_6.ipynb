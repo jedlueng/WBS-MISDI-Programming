{
 "cells": [
  {
   "cell_type": "code",
   "execution_count": null,
   "metadata": {
    "colab": {},
    "colab_type": "code",
    "id": "CkSMlPQyPOxb"
   },
   "outputs": [],
   "source": [
    "import pandas as pd\n",
    "import numpy as np\n",
    "#import matplotlib"
   ]
  },
  {
   "cell_type": "markdown",
   "metadata": {
    "colab_type": "text",
    "id": "Mu8MCyO8dER_"
   },
   "source": [
    "# Create Pandas Series\n"
   ]
  },
  {
   "cell_type": "markdown",
   "metadata": {
    "colab_type": "text",
    "id": "QCxUQoxpSfwF"
   },
   "source": [
    "**A series can be created using pandas function Series with python list or numpy 1-D array as the argument. By default, each item will receive an numeric index label starting from 0.**\n"
   ]
  },
  {
   "cell_type": "code",
   "execution_count": null,
   "metadata": {
    "colab": {},
    "colab_type": "code",
    "id": "Npav-tBYPOx5"
   },
   "outputs": [],
   "source": [
    "s1 = pd.Series([1, 2, 3])\n",
    "s2 = pd.Series(np.array([1, 2, 3, 4, 5]))\n",
    "print(s1, s2)"
   ]
  },
  {
   "cell_type": "markdown",
   "metadata": {
    "colab_type": "text",
    "id": "biW5h-XKSwq9"
   },
   "source": [
    "**You may compare Series with ndarray.**"
   ]
  },
  {
   "cell_type": "code",
   "execution_count": null,
   "metadata": {
    "colab": {},
    "colab_type": "code",
    "id": "2NnlcmPTT45M"
   },
   "outputs": [],
   "source": [
    "np.array([1, 2, 3, 4, 5])"
   ]
  },
  {
   "cell_type": "markdown",
   "metadata": {
    "colab_type": "text",
    "id": "QCVyAemNS4i3"
   },
   "source": [
    "**An explicit index can also be specified when creating the series by providing the index with a list as the second argument. This is often called label.**"
   ]
  },
  {
   "cell_type": "code",
   "execution_count": null,
   "metadata": {
    "colab": {},
    "colab_type": "code",
    "id": "VgrhOW19POyC"
   },
   "outputs": [],
   "source": [
    "s3 = pd.Series([1, 2, 3, 'a', 'b', 'c'], index=['A', 'B', 'C', 'D', 'E', 'F'])\n",
    "s3"
   ]
  },
  {
   "cell_type": "markdown",
   "metadata": {
    "colab_type": "text",
    "id": "q7dG9MbCTO2R"
   },
   "source": [
    "**When a dictionary is provided as the argument, the key will be used as the index.**"
   ]
  },
  {
   "cell_type": "code",
   "execution_count": null,
   "metadata": {
    "colab": {},
    "colab_type": "code",
    "id": "3FKz2vsaTgQ7"
   },
   "outputs": [],
   "source": [
    "s4 = pd.Series({'A': 1, 'B': 2, 'C': 3})\n",
    "s4"
   ]
  },
  {
   "cell_type": "markdown",
   "metadata": {
    "colab_type": "text",
    "id": "8r2lHmdfTxNa"
   },
   "source": [
    "Each index label needs to be unique?\n"
   ]
  },
  {
   "cell_type": "code",
   "execution_count": null,
   "metadata": {
    "colab": {},
    "colab_type": "code",
    "id": "M1h5L6WPTwOL"
   },
   "outputs": [],
   "source": [
    "s5 = pd.Series({'A': 1, 'B': 2, 'A': 3})\n",
    "s5"
   ]
  },
  {
   "cell_type": "markdown",
   "metadata": {
    "colab_type": "text",
    "id": "b2lK10f6UCD3"
   },
   "source": [
    "**Data in the series can be accessed similar to that in a Python list when having the default numeric index.**"
   ]
  },
  {
   "cell_type": "code",
   "execution_count": null,
   "metadata": {
    "colab": {},
    "colab_type": "code",
    "id": "NZ5wiMmaotPB"
   },
   "outputs": [],
   "source": [
    "s2[2]"
   ]
  },
  {
   "cell_type": "code",
   "execution_count": null,
   "metadata": {
    "colab": {},
    "colab_type": "code",
    "id": "pVi88ehDUJM6"
   },
   "outputs": [],
   "source": [
    "s2[:2]"
   ]
  },
  {
   "cell_type": "markdown",
   "metadata": {
    "colab_type": "text",
    "id": "BKzjU1MgUS1T"
   },
   "source": [
    "**Data in the series can be accessed similar to that in a Python dictionary when having specified index label.**"
   ]
  },
  {
   "cell_type": "code",
   "execution_count": null,
   "metadata": {
    "colab": {},
    "colab_type": "code",
    "id": "06PbYOTdURYV"
   },
   "outputs": [],
   "source": [
    "s3['A']"
   ]
  },
  {
   "cell_type": "markdown",
   "metadata": {
    "colab_type": "text",
    "id": "qtW1Jp1OVDPV"
   },
   "source": [
    "**You can retrieve multiple data by providing a list of \"keys\"/labels.**"
   ]
  },
  {
   "cell_type": "code",
   "execution_count": null,
   "metadata": {
    "colab": {},
    "colab_type": "code",
    "id": "VDgaqse-o2Df"
   },
   "outputs": [],
   "source": [
    "s3['A', 'B']  #two pairs of square brackets"
   ]
  },
  {
   "cell_type": "markdown",
   "metadata": {
    "colab_type": "text",
    "id": "t8QfBNTvVpUF"
   },
   "source": [
    "# Create DataFrame"
   ]
  },
  {
   "cell_type": "markdown",
   "metadata": {
    "colab_type": "text",
    "id": "s0_e2pC7VhhJ"
   },
   "source": [
    "**You can create a DataFrame from dictionary of narrays/lists/series. Keys will be used as the column labels by default. Values become the columns corresponding to the key.**\n",
    "\n"
   ]
  },
  {
   "cell_type": "code",
   "execution_count": null,
   "metadata": {
    "colab": {},
    "colab_type": "code",
    "id": "EnHhVb8C9Hi9"
   },
   "outputs": [],
   "source": [
    "d1 = pd.DataFrame([1, 2, 3])"
   ]
  },
  {
   "cell_type": "code",
   "execution_count": null,
   "metadata": {
    "colab": {},
    "colab_type": "code",
    "id": "SJrtD5II6Q1f"
   },
   "outputs": [],
   "source": [
    "d1 = pd.DataFrame({'A': [1, 2, 3], 'B': [2, 3, 4]})\n",
    "d1"
   ]
  },
  {
   "cell_type": "markdown",
   "metadata": {
    "colab_type": "text",
    "id": "mNbKtMTkWJch"
   },
   "source": [
    "**You may also specify index label for the rows.**"
   ]
  },
  {
   "cell_type": "code",
   "execution_count": null,
   "metadata": {
    "colab": {},
    "colab_type": "code",
    "id": "NiyTuyQlPOys"
   },
   "outputs": [],
   "source": [
    "d2 = pd.DataFrame({'A': [1, 2, 3], 'B': [2, 3, 4]}, index=['X', 'Y', 'Z'])\n",
    "d2"
   ]
  },
  {
   "cell_type": "code",
   "execution_count": null,
   "metadata": {
    "colab": {},
    "colab_type": "code",
    "id": "R2pDG5VcPOyw"
   },
   "outputs": [],
   "source": [
    "d3 = pd.DataFrame({\n",
    "    'A': np.array([1, 2, 3]),\n",
    "    'B': [2, 3, 4]\n",
    "},\n",
    "                  index=['X', 'Y', 'Z'])  #dictionary with mixed data types\n",
    "d3"
   ]
  },
  {
   "cell_type": "code",
   "execution_count": null,
   "metadata": {
    "colab": {},
    "colab_type": "code",
    "id": "-Jwvxjs37s8n"
   },
   "outputs": [],
   "source": [
    "d4 = pd.DataFrame({'A': [1, 2, 3], 'B': s1})\n",
    "d4"
   ]
  },
  {
   "cell_type": "markdown",
   "metadata": {
    "colab_type": "text",
    "id": "O5wKANNaWqXN"
   },
   "source": [
    "**Items in the dictionary must have the same length unless they are all series.**"
   ]
  },
  {
   "cell_type": "code",
   "execution_count": null,
   "metadata": {
    "colab": {},
    "colab_type": "code",
    "id": "7ZpezNRm72Xg"
   },
   "outputs": [],
   "source": [
    "d5 = pd.DataFrame({'A': [1, 2, 3], 'B': [2, 3, 4, 5]})  #error"
   ]
  },
  {
   "cell_type": "code",
   "execution_count": null,
   "metadata": {
    "colab": {},
    "colab_type": "code",
    "id": "5GkkM_Hn74gJ"
   },
   "outputs": [],
   "source": [
    "d6 = pd.DataFrame({'A': s1, 'B': [1, 2]})\n",
    "d6"
   ]
  },
  {
   "cell_type": "code",
   "execution_count": null,
   "metadata": {
    "colab": {},
    "colab_type": "code",
    "id": "FXKuxsqTA3WK"
   },
   "outputs": [],
   "source": [
    "s2"
   ]
  },
  {
   "cell_type": "code",
   "execution_count": null,
   "metadata": {
    "colab": {},
    "colab_type": "code",
    "id": "xRy3_CVZAx5J"
   },
   "outputs": [],
   "source": [
    "d6 = pd.DataFrame({'A': s1, 'B': s2})\n",
    "d6"
   ]
  },
  {
   "cell_type": "markdown",
   "metadata": {
    "colab_type": "text",
    "id": "nIdNz947W8K5"
   },
   "source": [
    "**When series have different length, Python will try to match their index to create the dataframe and NaN (Not a Number) is appended in missing areas.**"
   ]
  },
  {
   "cell_type": "code",
   "execution_count": null,
   "metadata": {
    "colab": {},
    "colab_type": "code",
    "id": "htrA6m1079vg"
   },
   "outputs": [],
   "source": [
    "d7 = pd.DataFrame({'A': s1, 'B': s2})  #using default numeric index\n",
    "d7"
   ]
  },
  {
   "cell_type": "code",
   "execution_count": null,
   "metadata": {
    "colab": {},
    "colab_type": "code",
    "id": "0Xg428YyPOy3"
   },
   "outputs": [],
   "source": [
    "data = {\n",
    "    'A': pd.Series([1, 2, 3], index=['a', 'b', 'c']),\n",
    "    'B': pd.Series([1, 2, 3, 4], index=['b', 'c', 'd', 'e'])\n",
    "}  #using specified index\n",
    "df8 = pd.DataFrame(data)\n",
    "df8"
   ]
  },
  {
   "cell_type": "markdown",
   "metadata": {
    "colab_type": "text",
    "id": "Jb08Lwnk8uPG"
   },
   "source": [
    "**A DataFrame can be created using a single list or a list of lists.**"
   ]
  },
  {
   "cell_type": "code",
   "execution_count": null,
   "metadata": {
    "colab": {},
    "colab_type": "code",
    "id": "pifG1C1s8u_N"
   },
   "outputs": [],
   "source": [
    "d9 = pd.DataFrame([1, 2, 3, 4, 5, 6])\n",
    "d9"
   ]
  },
  {
   "cell_type": "code",
   "execution_count": null,
   "metadata": {
    "colab": {},
    "colab_type": "code",
    "id": "-qLFuNa1c1OC"
   },
   "outputs": [],
   "source": [
    "s9 = pd.Series([1, 2, 3, 4, 5, 6])  #compare with a series\n",
    "s9"
   ]
  },
  {
   "cell_type": "code",
   "execution_count": null,
   "metadata": {
    "colab": {},
    "colab_type": "code",
    "id": "CerA1CwNPOzZ"
   },
   "outputs": [],
   "source": [
    "d10 = pd.DataFrame([[1, 2, 3], [2, 3, 4], [3, 4, 5]])  #a list of lists\n",
    "d10"
   ]
  },
  {
   "cell_type": "markdown",
   "metadata": {
    "colab_type": "text",
    "id": "GiyQUaQ3ZBrb"
   },
   "source": [
    "Numeric labels will be created for row and column by default. You can also specify the labels for columns and index (row)."
   ]
  },
  {
   "cell_type": "code",
   "execution_count": null,
   "metadata": {
    "colab": {},
    "colab_type": "code",
    "id": "mT1xxny5Y5J-"
   },
   "outputs": [],
   "source": [
    "d11 = pd.DataFrame([[1, 2, 3], [2, 3, 4], [3, 4, 5]], columns=['A', 'B', 'C'])\n",
    "d11"
   ]
  },
  {
   "cell_type": "code",
   "execution_count": null,
   "metadata": {
    "colab": {},
    "colab_type": "code",
    "id": "M1bM-Tn1ZSMc"
   },
   "outputs": [],
   "source": [
    "d12 = pd.DataFrame([[1, 2, 3], [2, 3, 4], [3, 4, 5]],\n",
    "                   columns=['A', 'B', 'C'],\n",
    "                   index=['X', 'Y', 'Z'])\n",
    "d12"
   ]
  },
  {
   "cell_type": "markdown",
   "metadata": {
    "colab_type": "text",
    "id": "DZMdmUaHZaZ9"
   },
   "source": [
    "**You can create a DataFrame from a list of dictionaries. Keys will be used as the column labels by default.**"
   ]
  },
  {
   "cell_type": "code",
   "execution_count": null,
   "metadata": {
    "colab": {},
    "colab_type": "code",
    "id": "qaA2LfgIZgz7"
   },
   "outputs": [],
   "source": [
    "d13 = pd.DataFrame([{'a': 1, 'b': 2}, {'a': 5, 'b': 10}])\n",
    "d13"
   ]
  },
  {
   "cell_type": "code",
   "execution_count": null,
   "metadata": {
    "colab": {},
    "colab_type": "code",
    "id": "CrzemC01ZnU8"
   },
   "outputs": [],
   "source": [
    "d14 = pd.DataFrame([{'a': 1, 'b': 2}, {'a': 5, 'b': 10}], index=['A', 'B'])\n",
    "d14"
   ]
  },
  {
   "cell_type": "markdown",
   "metadata": {
    "colab_type": "text",
    "id": "B_NCtnrIZxjU"
   },
   "source": [
    "**Each item in the list is like a row in a table. Items in the list can have different length.**\n",
    "What would the df_test look like?"
   ]
  },
  {
   "cell_type": "code",
   "execution_count": null,
   "metadata": {
    "colab": {},
    "colab_type": "code",
    "id": "FLqkGGhEPOzg"
   },
   "outputs": [],
   "source": [
    "df_test = pd.DataFrame([{'a': 1, 'b': 2}, {'b': 5, 'c': 10, 'd': 15}])\n",
    "\n",
    "df_test"
   ]
  },
  {
   "cell_type": "code",
   "execution_count": null,
   "metadata": {
    "colab": {},
    "colab_type": "code",
    "id": "oM6xqaVKbbNR"
   },
   "outputs": [],
   "source": [
    "df_test = pd.DataFrame([[1, 2], [2, 3], [3, 4, 5]])\n",
    "df_test"
   ]
  },
  {
   "cell_type": "markdown",
   "metadata": {
    "colab_type": "text",
    "id": "LEbi_DPCivRj"
   },
   "source": [
    "**When no specific column label is provided, Python will match the default labels (number index or keys) to create the dataframe and NaN is appended in missing areas.**"
   ]
  },
  {
   "cell_type": "markdown",
   "metadata": {
    "colab_type": "text",
    "id": "q76bUPoHb05u"
   },
   "source": [
    "**When column labels are specified, Python will create DataFrame based on the column labels and try to match keys with the labels. Values with non-match keys will be ignored. **"
   ]
  },
  {
   "cell_type": "code",
   "execution_count": null,
   "metadata": {
    "colab": {},
    "colab_type": "code",
    "id": "6dzV7ovhb2td"
   },
   "outputs": [],
   "source": [
    "df_test = pd.DataFrame([{\n",
    "    'a': 1,\n",
    "    'b': 2\n",
    "}, {\n",
    "    'b': 5,\n",
    "    'c': 10,\n",
    "    'd': 15\n",
    "}],\n",
    "                       columns=['b', 'd', 'e'])\n",
    "df_test"
   ]
  },
  {
   "cell_type": "code",
   "execution_count": null,
   "metadata": {
    "colab": {},
    "colab_type": "code",
    "id": "ayyALlQgPOzI"
   },
   "outputs": [],
   "source": [
    "df_test = pd.DataFrame({\n",
    "    'A': np.array([1, 2, 3]),\n",
    "    'B': [2, 3, 4]\n",
    "},\n",
    "                       index=['X', 'Y', 'Z'],\n",
    "                       columns=['aa', 'bb'])\n",
    "df_test"
   ]
  },
  {
   "cell_type": "markdown",
   "metadata": {
    "colab_type": "text",
    "id": "uRZMk5tRc9Dr"
   },
   "source": [
    "# Create DataFrame from files"
   ]
  },
  {
   "cell_type": "markdown",
   "metadata": {
    "colab_type": "text",
    "id": "sgJ8_UKcd2-W"
   },
   "source": [
    "**Pandas can read data directly from a wide range of file formats, such as csv, Excel, JSON, SQL database, Stata, SAS, etc. We will focus on csv files in this class. **"
   ]
  },
  {
   "cell_type": "markdown",
   "metadata": {
    "colab_type": "text",
    "id": "EwktQPGOd4uc"
   },
   "source": [
    "**Use read_csv() function. Filename is the only required argument. **"
   ]
  },
  {
   "cell_type": "code",
   "execution_count": null,
   "metadata": {
    "colab": {},
    "colab_type": "code",
    "id": "TQ_sa8u6fbve"
   },
   "outputs": [],
   "source": [
    "df_tips = pd.read_csv('tips.csv')\n",
    "df_tips"
   ]
  },
  {
   "cell_type": "code",
   "execution_count": null,
   "metadata": {
    "colab": {},
    "colab_type": "code",
    "id": "FmjEu8L_aUjZ"
   },
   "outputs": [],
   "source": [
    "df_tips = pd.read_csv('tips.csv', header=None)\n",
    "df_tips"
   ]
  },
  {
   "cell_type": "code",
   "execution_count": null,
   "metadata": {
    "colab": {},
    "colab_type": "code",
    "id": "yqpPOut0aUge"
   },
   "outputs": [],
   "source": [
    "df_tips = pd.read_csv('tips.csv', header=None, names=[1, 2])\n",
    "df_tips"
   ]
  },
  {
   "cell_type": "code",
   "execution_count": null,
   "metadata": {
    "colab": {},
    "colab_type": "code",
    "id": "sxVW96R4fCoU"
   },
   "outputs": [],
   "source": [
    "df_tips = pd.read_csv('tips.csv', index_col=0)\n",
    "df_tips"
   ]
  },
  {
   "cell_type": "code",
   "execution_count": null,
   "metadata": {
    "colab": {},
    "colab_type": "code",
    "id": "_KtI8do4fDpe"
   },
   "outputs": [],
   "source": [
    "df_tips = pd.read_csv('tips.csv', index_col='tip')\n",
    "df_tips"
   ]
  },
  {
   "cell_type": "code",
   "execution_count": null,
   "metadata": {
    "colab": {},
    "colab_type": "code",
    "id": "rs0JxuCQfRMO"
   },
   "outputs": [],
   "source": [
    "df_tips = pd.read_csv('tips.csv', usecols=[1, 2, 3])\n",
    "df_tips"
   ]
  },
  {
   "cell_type": "code",
   "execution_count": null,
   "metadata": {
    "colab": {},
    "colab_type": "code",
    "id": "WZZ97F4lfRDc"
   },
   "outputs": [],
   "source": [
    "df_tips = pd.read_csv('tips.csv', skiprows=3, nrows=10)\n",
    "df_tips"
   ]
  },
  {
   "cell_type": "markdown",
   "metadata": {},
   "source": [
    "# Conversion between DataFrame and ndarray"
   ]
  },
  {
   "cell_type": "code",
   "execution_count": null,
   "metadata": {},
   "outputs": [],
   "source": [
    "import numpy as np\n",
    "array = np.array([[1, 2, 3], [3, 4, 5], [6, 7, 7]])\n",
    "df_array = pd.DataFrame(data=array)\n",
    "df_array"
   ]
  },
  {
   "cell_type": "code",
   "execution_count": null,
   "metadata": {},
   "outputs": [],
   "source": [
    "df_array.to_numpy()"
   ]
  },
  {
   "cell_type": "markdown",
   "metadata": {
    "colab_type": "text",
    "id": "ogpcrOKggJwA"
   },
   "source": [
    "# **Column selection and deletion**"
   ]
  },
  {
   "cell_type": "markdown",
   "metadata": {
    "colab_type": "text",
    "id": "9baxlForgXva"
   },
   "source": [
    "**Column selection using the column label**"
   ]
  },
  {
   "cell_type": "code",
   "execution_count": null,
   "metadata": {
    "colab": {},
    "colab_type": "code",
    "id": "3YAAf7LvhrXP"
   },
   "outputs": [],
   "source": [
    "df_tips['tip']  #column label as the key, return a series."
   ]
  },
  {
   "cell_type": "code",
   "execution_count": null,
   "metadata": {
    "colab": {},
    "colab_type": "code",
    "id": "ZpS3aeGphrTa"
   },
   "outputs": [],
   "source": [
    "df_tips[['tip']]  #return a dataframe."
   ]
  },
  {
   "cell_type": "markdown",
   "metadata": {
    "colab_type": "text",
    "id": "alzOjiJQh9ws"
   },
   "source": [
    "**Add new column with label, similar as adding new item to a dictionary**"
   ]
  },
  {
   "cell_type": "code",
   "execution_count": null,
   "metadata": {
    "colab": {},
    "colab_type": "code",
    "id": "yKcNmufLhrOv"
   },
   "outputs": [],
   "source": [
    "df_tips['f'] = pd.Series([10, 10])\n",
    "df_tips"
   ]
  },
  {
   "cell_type": "markdown",
   "metadata": {
    "colab_type": "text",
    "id": "hxtuvsnfiH7B"
   },
   "source": [
    "**New column can be added by calculating existing columns**"
   ]
  },
  {
   "cell_type": "code",
   "execution_count": null,
   "metadata": {
    "colab": {},
    "colab_type": "code",
    "id": "PN03u-QrhrGx"
   },
   "outputs": [],
   "source": [
    "df_tips['total'] = df_tips['total_bill'] + df_tips['tip']\n",
    "df_tips"
   ]
  },
  {
   "cell_type": "markdown",
   "metadata": {
    "colab_type": "text",
    "id": "lurnMrNviQHG"
   },
   "source": [
    "**del to delete a column**"
   ]
  },
  {
   "cell_type": "code",
   "execution_count": null,
   "metadata": {
    "colab": {},
    "colab_type": "code",
    "id": "mTQW9SgkhqvY"
   },
   "outputs": [],
   "source": [
    "del df_tips['f']\n",
    "df_tips"
   ]
  },
  {
   "cell_type": "markdown",
   "metadata": {
    "colab_type": "text",
    "id": "Pkn10E8qiZfP"
   },
   "source": [
    "# Row Selection"
   ]
  },
  {
   "cell_type": "markdown",
   "metadata": {
    "colab_type": "text",
    "id": "PxFqkPD8gbwy"
   },
   "source": [
    "**Row selection by passing row labels to loc[] method. The row will be returned as a series or a dataframe:**"
   ]
  },
  {
   "cell_type": "code",
   "execution_count": null,
   "metadata": {
    "colab": {},
    "colab_type": "code",
    "id": "Ix1F7glTiuvZ"
   },
   "outputs": [],
   "source": [
    "df_tips.loc[1]  #column labels will be used as row index."
   ]
  },
  {
   "cell_type": "markdown",
   "metadata": {
    "colab_type": "text",
    "id": "hX9SWmnnizWq"
   },
   "source": [
    "**Multiple rows can be selected**"
   ]
  },
  {
   "cell_type": "code",
   "execution_count": null,
   "metadata": {
    "colab": {},
    "colab_type": "code",
    "id": "krwH48V5i07D"
   },
   "outputs": [],
   "source": [
    "df_tips.loc[[1, 2, 3]]  #a list of row indexes/labels, returns a dataframe"
   ]
  },
  {
   "cell_type": "code",
   "execution_count": null,
   "metadata": {
    "colab": {},
    "colab_type": "code",
    "id": "fJgcwai-jLyD"
   },
   "outputs": [],
   "source": [
    "df_tips.loc[1:3]  #slice, both start and end included."
   ]
  },
  {
   "cell_type": "markdown",
   "metadata": {
    "colab_type": "text",
    "id": "ZQUzY_ZejTG-"
   },
   "source": [
    "**Column labels can be provided to filter the results**"
   ]
  },
  {
   "cell_type": "code",
   "execution_count": null,
   "metadata": {
    "colab": {},
    "colab_type": "code",
    "id": "kLZLqf0_jQgY"
   },
   "outputs": [],
   "source": [
    "df_tips.loc[[1, 2, 3], 'tip']"
   ]
  },
  {
   "cell_type": "markdown",
   "metadata": {
    "colab_type": "text",
    "id": "qGo_qPGvj-NG"
   },
   "source": [
    "**Select rows with Boolean list indicating whether to be selected**"
   ]
  },
  {
   "cell_type": "code",
   "execution_count": null,
   "metadata": {
    "colab": {},
    "colab_type": "code",
    "id": "lL9BjfhHj6ul"
   },
   "outputs": [],
   "source": [
    "df_tips.loc[[True, False, False, True, False]]  #error"
   ]
  },
  {
   "cell_type": "markdown",
   "metadata": {
    "colab_type": "text",
    "id": "DCgxZCCLkH8y"
   },
   "source": [
    "**Select rows with Boolean expression passed as series**"
   ]
  },
  {
   "cell_type": "code",
   "execution_count": null,
   "metadata": {
    "colab": {},
    "colab_type": "code",
    "id": "nH6qoPhhlBuP"
   },
   "outputs": [],
   "source": [
    "df_tips['tip'] > 2  #element-wise operation"
   ]
  },
  {
   "cell_type": "code",
   "execution_count": null,
   "metadata": {
    "colab": {},
    "colab_type": "code",
    "id": "Pyh77XAOj6n2"
   },
   "outputs": [],
   "source": [
    "df_tips.loc[df_tips['tip'] > 2]"
   ]
  },
  {
   "cell_type": "code",
   "execution_count": null,
   "metadata": {
    "colab": {},
    "colab_type": "code",
    "id": "qq9JUkELj6gw"
   },
   "outputs": [],
   "source": [
    "df_tips.loc[df_tips['tip'] > 2, 'total']"
   ]
  },
  {
   "cell_type": "markdown",
   "metadata": {
    "colab_type": "text",
    "id": "SE_w5qjEkszY"
   },
   "source": [
    "**You may also try:**"
   ]
  },
  {
   "cell_type": "code",
   "execution_count": null,
   "metadata": {
    "colab": {},
    "colab_type": "code",
    "id": "pjY35TQkkz5M"
   },
   "outputs": [],
   "source": [
    "df_tips[df_tips['tip'] > 2]"
   ]
  },
  {
   "cell_type": "markdown",
   "metadata": {
    "colab_type": "text",
    "id": "rP-N9-PHlQaE"
   },
   "source": [
    "**Select rows by passing integer position (index) to method iloc[].**"
   ]
  },
  {
   "cell_type": "code",
   "execution_count": null,
   "metadata": {
    "colab": {},
    "colab_type": "code",
    "id": "aRN9KMaglWz1"
   },
   "outputs": [],
   "source": [
    "df_tips.iloc[1]"
   ]
  },
  {
   "cell_type": "code",
   "execution_count": null,
   "metadata": {
    "colab": {},
    "colab_type": "code",
    "id": "7k2bMxA9gXDg"
   },
   "outputs": [],
   "source": [
    "df_tips.loc[1]"
   ]
  },
  {
   "cell_type": "code",
   "execution_count": null,
   "metadata": {
    "colab": {},
    "colab_type": "code",
    "id": "higa2FOWlWs3"
   },
   "outputs": [],
   "source": [
    "df_tips.iloc[1:3]"
   ]
  },
  {
   "cell_type": "code",
   "execution_count": null,
   "metadata": {
    "colab": {},
    "colab_type": "code",
    "id": "7DXEU9ivl49i"
   },
   "outputs": [],
   "source": [
    "df_tips.loc[1:3]"
   ]
  },
  {
   "cell_type": "markdown",
   "metadata": {
    "colab_type": "text",
    "id": "w7-WKzFun8_R"
   },
   "source": [
    "# **Add Rows**"
   ]
  },
  {
   "cell_type": "markdown",
   "metadata": {
    "colab_type": "text",
    "id": "6OqkNfsHoGPj"
   },
   "source": [
    "**Add new rows with append() method at the end of a dataframe.**"
   ]
  },
  {
   "cell_type": "code",
   "execution_count": null,
   "metadata": {
    "colab": {},
    "colab_type": "code",
    "id": "Pracn7P8oA15"
   },
   "outputs": [],
   "source": [
    "df_tips.append([99, 99])  #existing dataframe not updated.\n",
    "df_tips"
   ]
  },
  {
   "cell_type": "code",
   "execution_count": null,
   "metadata": {
    "colab": {},
    "colab_type": "code",
    "id": "dDOmwWRJoV0Y"
   },
   "outputs": [],
   "source": [
    "df_tips2 = df_tips.append([99, 99])\n",
    "df_tips2"
   ]
  },
  {
   "cell_type": "code",
   "execution_count": null,
   "metadata": {
    "colab": {},
    "colab_type": "code",
    "id": "nOcky1ucoK9a"
   },
   "outputs": [],
   "source": [
    "df_tips2 = df_tips.append(pd.DataFrame([99, 99]))\n",
    "df_tips2"
   ]
  },
  {
   "cell_type": "markdown",
   "metadata": {
    "colab_type": "text",
    "id": "VDZv_Kn-of6l"
   },
   "source": [
    "**Python will align matching columns. **"
   ]
  },
  {
   "cell_type": "code",
   "execution_count": null,
   "metadata": {
    "colab": {},
    "colab_type": "code",
    "id": "uN23tWlnoK5v"
   },
   "outputs": [],
   "source": [
    "df_tips2 = df_tips.append(pd.DataFrame([99, 99], columns=['size']))  #error\n",
    "df_tips2"
   ]
  },
  {
   "cell_type": "code",
   "execution_count": null,
   "metadata": {
    "colab": {},
    "colab_type": "code",
    "id": "UGApL3-4qp7t"
   },
   "outputs": [],
   "source": [
    "df_tips2 = df_tips.append([[99, 99]])\n",
    "df_tips2"
   ]
  },
  {
   "cell_type": "code",
   "execution_count": null,
   "metadata": {
    "colab": {},
    "colab_type": "code",
    "id": "_Zuh5FuwoKxW"
   },
   "outputs": [],
   "source": [
    "df_tips2 = df_tips.append(pd.DataFrame([[99, 99]], columns=['A', 'B']))\n",
    "df_tips2"
   ]
  },
  {
   "cell_type": "markdown",
   "metadata": {
    "colab_type": "text",
    "id": "SGvVFsYZq2CD"
   },
   "source": [
    "**You can reset row labels by setting ignore_index=True (default is False).**"
   ]
  },
  {
   "cell_type": "code",
   "execution_count": null,
   "metadata": {
    "colab": {},
    "colab_type": "code",
    "id": "4tZU2cWVq8p5"
   },
   "outputs": [],
   "source": [
    "df_tips2 = df_tips.append(pd.DataFrame([[99, 99]], columns=['A', 'B']),\n",
    "                          ignore_index=True)\n",
    "df_tips2"
   ]
  },
  {
   "cell_type": "markdown",
   "metadata": {
    "colab_type": "text",
    "id": "EW7ruTkErSvO"
   },
   "source": [
    "# **Row Deletion**"
   ]
  },
  {
   "cell_type": "markdown",
   "metadata": {
    "colab_type": "text",
    "id": "exBTAY7FrbqA"
   },
   "source": [
    "**You can remove rows by drop() method with a list of row labels.**"
   ]
  },
  {
   "cell_type": "code",
   "execution_count": null,
   "metadata": {
    "colab": {},
    "colab_type": "code",
    "id": "WoTL9LHSrbAw"
   },
   "outputs": [],
   "source": [
    "df_tips.drop([2])  #same as df_tips.drop(4)\n",
    "df_tips"
   ]
  },
  {
   "cell_type": "code",
   "execution_count": null,
   "metadata": {
    "colab": {},
    "colab_type": "code",
    "id": "PW_dilMqrk78"
   },
   "outputs": [],
   "source": [
    "df_tips.drop([0:2]) #error [0:2] is not a list. Alternatively, df_tips = df_tips[2:].\n",
    "df_tips"
   ]
  },
  {
   "cell_type": "code",
   "execution_count": null,
   "metadata": {
    "colab": {},
    "colab_type": "code",
    "id": "sTpADoJyrku2"
   },
   "outputs": [],
   "source": [
    "df_tips.drop([0, 1, 2])\n",
    "df_tips"
   ]
  },
  {
   "cell_type": "code",
   "execution_count": null,
   "metadata": {
    "colab": {},
    "colab_type": "code",
    "id": "eB1c9KE7rksu"
   },
   "outputs": [],
   "source": [
    "df_tips.drop(range(3))  #existing dataframe not updated\n",
    "df_tips"
   ]
  },
  {
   "cell_type": "code",
   "execution_count": null,
   "metadata": {
    "colab": {},
    "colab_type": "code",
    "id": "10ZQveEbrkof"
   },
   "outputs": [],
   "source": [
    "df_tips = df_tips.drop([2])\n",
    "df_tips"
   ]
  },
  {
   "cell_type": "code",
   "execution_count": null,
   "metadata": {
    "colab": {},
    "colab_type": "code",
    "id": "v8ZQvl70rpgI"
   },
   "outputs": [],
   "source": [
    "df_tips.drop([4], inplace=True)  # existing dataframe updated.\n",
    "df_tips"
   ]
  },
  {
   "cell_type": "markdown",
   "metadata": {
    "colab_type": "text",
    "id": "elH-sfHOsZnV"
   },
   "source": [
    "# **Important DataFrame Attributes**"
   ]
  },
  {
   "cell_type": "markdown",
   "metadata": {
    "colab_type": "text",
    "id": "4dha1W4rsf7f"
   },
   "source": [
    "**.index returns a \"list\" of row indexes.**"
   ]
  },
  {
   "cell_type": "code",
   "execution_count": null,
   "metadata": {
    "colab": {},
    "colab_type": "code",
    "id": "5XgEWD_mso3P"
   },
   "outputs": [],
   "source": [
    "df_tips.index"
   ]
  },
  {
   "cell_type": "code",
   "execution_count": null,
   "metadata": {
    "colab": {},
    "colab_type": "code",
    "id": "UcaOU1P-s0OX"
   },
   "outputs": [],
   "source": [
    "df_tips.loc[df_tips['tip'] > 2].index"
   ]
  },
  {
   "cell_type": "markdown",
   "metadata": {
    "colab_type": "text",
    "id": "DfRuq-posfvr"
   },
   "source": [
    "**Very handy to remove rows based on condition.**"
   ]
  },
  {
   "cell_type": "code",
   "execution_count": null,
   "metadata": {
    "colab": {},
    "colab_type": "code",
    "id": "QImTOBJarpZW"
   },
   "outputs": [],
   "source": [
    "df_tips3 = df_tips.drop(df_tips.loc[df_tips['tip'] > 2].index)\n",
    "df_tips3"
   ]
  },
  {
   "cell_type": "markdown",
   "metadata": {
    "colab_type": "text",
    "id": "17rvP1eAtJqB"
   },
   "source": [
    "# **Scalar operation**"
   ]
  },
  {
   "cell_type": "markdown",
   "metadata": {
    "colab_type": "text",
    "id": "dvoEPu0PtNUS"
   },
   "source": [
    "**Basic arithmetic and Boolean operations with scalar data are element-wise.**"
   ]
  },
  {
   "cell_type": "code",
   "execution_count": null,
   "metadata": {
    "colab": {},
    "colab_type": "code",
    "id": "CAvQt3aNtM21"
   },
   "outputs": [],
   "source": [
    "df_tips * 2  #broadcasting"
   ]
  },
  {
   "cell_type": "code",
   "execution_count": null,
   "metadata": {
    "colab": {},
    "colab_type": "code",
    "id": "RpP8waOGtVcg"
   },
   "outputs": [],
   "source": [
    "df_tips.add(2)  #error"
   ]
  },
  {
   "cell_type": "code",
   "execution_count": null,
   "metadata": {
    "colab": {},
    "colab_type": "code",
    "id": "JL7nASivtVUB"
   },
   "outputs": [],
   "source": [
    "df_tips > 2  #error"
   ]
  },
  {
   "cell_type": "code",
   "execution_count": null,
   "metadata": {
    "colab": {},
    "colab_type": "code",
    "id": "5LprXlWwtVIt"
   },
   "outputs": [],
   "source": [
    "df_tips['tip'] * 2"
   ]
  },
  {
   "cell_type": "markdown",
   "metadata": {
    "colab_type": "text",
    "id": "jsHiAjF8tve9"
   },
   "source": [
    "**Arithmetic and Boolean operations with another list or Series will be performed based on matching labels (columns). **"
   ]
  },
  {
   "cell_type": "code",
   "execution_count": null,
   "metadata": {
    "colab": {},
    "colab_type": "code",
    "id": "dCHJ__0LtzNQ"
   },
   "outputs": [],
   "source": [
    "d10 = pd.DataFrame([[1, 2, 3], [3, 4, 5], [5, 6, 7]])"
   ]
  },
  {
   "cell_type": "code",
   "execution_count": null,
   "metadata": {
    "colab": {},
    "colab_type": "code",
    "id": "e1Y7NOKatzGM"
   },
   "outputs": [],
   "source": [
    "d10 - [1, 2, 3]  #default to compare by column."
   ]
  },
  {
   "cell_type": "code",
   "execution_count": null,
   "metadata": {
    "colab": {},
    "colab_type": "code",
    "id": "Y6BoJK53ty9D"
   },
   "outputs": [],
   "source": [
    "d10 > [3, 3, 3]"
   ]
  },
  {
   "cell_type": "code",
   "execution_count": null,
   "metadata": {
    "colab": {},
    "colab_type": "code",
    "id": "-2uI_Dx4txfc"
   },
   "outputs": [],
   "source": [
    "d10 - [1, 2]  #error, different length"
   ]
  },
  {
   "cell_type": "code",
   "execution_count": null,
   "metadata": {
    "colab": {},
    "colab_type": "code",
    "id": "AsJfuUOyt4cY"
   },
   "outputs": [],
   "source": [
    "d10 - pd.Series([1, 2])  # NaN for no-match column."
   ]
  },
  {
   "cell_type": "markdown",
   "metadata": {
    "colab_type": "text",
    "id": "gs5Rngjruzvm"
   },
   "source": [
    "**For operations by row, you need to specify axis to be \"index\".**"
   ]
  },
  {
   "cell_type": "code",
   "execution_count": null,
   "metadata": {
    "colab": {},
    "colab_type": "code",
    "id": "_SlibQ30u2d1"
   },
   "outputs": [],
   "source": [
    "d10.sub(pd.Series([1, 2, 3]), axis='index')"
   ]
  },
  {
   "cell_type": "code",
   "execution_count": null,
   "metadata": {
    "colab": {},
    "colab_type": "code",
    "id": "7ONBAKVnu2TT"
   },
   "outputs": [],
   "source": [
    "d10.sub(pd.Series([1, 2, 3], index=[1, 2, 3]),\n",
    "        axis='index')  # NaN for no-match rows."
   ]
  },
  {
   "cell_type": "code",
   "execution_count": null,
   "metadata": {
    "colab": {},
    "colab_type": "code",
    "id": "9OcDCwiEu1yq"
   },
   "outputs": [],
   "source": [
    "d10.mul(pd.Series([1, 2, 3], index=[1, 2, 3]),\n",
    "        axis='index')  # NaN for no-match rows."
   ]
  },
  {
   "cell_type": "markdown",
   "metadata": {
    "colab_type": "text",
    "id": "z8V8epKWvfED"
   },
   "source": [
    "# **Data Processing**"
   ]
  },
  {
   "cell_type": "markdown",
   "metadata": {
    "colab_type": "text",
    "id": "xroeC7aZv-lP"
   },
   "source": [
    "## **Explore Dataset**"
   ]
  },
  {
   "cell_type": "code",
   "execution_count": null,
   "metadata": {
    "colab": {},
    "colab_type": "code",
    "id": "zV9Up0_hzr2f"
   },
   "outputs": [],
   "source": [
    "df_tips.shape"
   ]
  },
  {
   "cell_type": "code",
   "execution_count": null,
   "metadata": {
    "colab": {},
    "colab_type": "code",
    "id": "c5mB5Xt0wJnM"
   },
   "outputs": [],
   "source": [
    "df_tips.size"
   ]
  },
  {
   "cell_type": "code",
   "execution_count": null,
   "metadata": {
    "colab": {},
    "colab_type": "code",
    "id": "R1nwpWgZlBWS"
   },
   "outputs": [],
   "source": [
    "df_tips.info()"
   ]
  },
  {
   "cell_type": "code",
   "execution_count": null,
   "metadata": {
    "colab": {},
    "colab_type": "code",
    "id": "77IU9Wqfv2Cf"
   },
   "outputs": [],
   "source": [
    "df_tips"
   ]
  },
  {
   "cell_type": "code",
   "execution_count": null,
   "metadata": {
    "colab": {},
    "colab_type": "code",
    "id": "Aelu-eZjmMMT"
   },
   "outputs": [],
   "source": [
    "df_tips.head(3)"
   ]
  },
  {
   "cell_type": "code",
   "execution_count": null,
   "metadata": {
    "colab": {},
    "colab_type": "code",
    "id": "KJMYhP22wZOE"
   },
   "outputs": [],
   "source": [
    "df_tips.tail(3)"
   ]
  },
  {
   "cell_type": "markdown",
   "metadata": {
    "colab_type": "text",
    "id": "VWVYKpMdxcQ0"
   },
   "source": [
    "## **Titanic Case**"
   ]
  },
  {
   "cell_type": "code",
   "execution_count": null,
   "metadata": {
    "colab": {},
    "colab_type": "code",
    "id": "nQCrUI0Jx45A"
   },
   "outputs": [],
   "source": [
    "df_titan = pd.read_csv('titanic_train.csv')\n",
    "df_titan.head()"
   ]
  },
  {
   "cell_type": "code",
   "execution_count": null,
   "metadata": {
    "colab": {},
    "colab_type": "code",
    "id": "s89qfkGrwZLW"
   },
   "outputs": [],
   "source": [
    "df_titan.info()"
   ]
  },
  {
   "cell_type": "markdown",
   "metadata": {
    "colab_type": "text",
    "id": "b3q9sSdZwv75"
   },
   "source": [
    "**Descriptive statistics**"
   ]
  },
  {
   "cell_type": "code",
   "execution_count": null,
   "metadata": {
    "colab": {},
    "colab_type": "code",
    "id": "KHMI26tkwygQ"
   },
   "outputs": [],
   "source": [
    "df_titan.describe()"
   ]
  },
  {
   "cell_type": "code",
   "execution_count": null,
   "metadata": {
    "colab": {},
    "colab_type": "code",
    "id": "ej-aN6CTYuzb"
   },
   "outputs": [],
   "source": [
    "df_titan.describe(include='all')"
   ]
  },
  {
   "cell_type": "code",
   "execution_count": null,
   "metadata": {
    "colab": {},
    "colab_type": "code",
    "id": "ZLmBhoVlw2AG"
   },
   "outputs": [],
   "source": [
    "df_titan.describe(include='object')"
   ]
  },
  {
   "cell_type": "code",
   "execution_count": null,
   "metadata": {
    "colab": {},
    "colab_type": "code",
    "id": "rthruRqqw10e"
   },
   "outputs": [],
   "source": [
    "df_titan.describe(include='number')"
   ]
  },
  {
   "cell_type": "code",
   "execution_count": null,
   "metadata": {
    "colab": {},
    "colab_type": "code",
    "id": "2PtOrrydyGWU"
   },
   "outputs": [],
   "source": [
    "df_titan.mean()"
   ]
  },
  {
   "cell_type": "markdown",
   "metadata": {
    "colab_type": "text",
    "id": "qQgmE8mpyqXP"
   },
   "source": [
    "By default, these statistics are for each column. You can get row-based statistics by specifying axis=1. \n"
   ]
  },
  {
   "cell_type": "code",
   "execution_count": null,
   "metadata": {
    "colab": {},
    "colab_type": "code",
    "id": "lMvh9e27yGLJ"
   },
   "outputs": [],
   "source": [
    "df_titan.mean(axis=1)  # default axis = 0"
   ]
  },
  {
   "cell_type": "markdown",
   "metadata": {
    "colab_type": "text",
    "id": "Q797ve6uymhi"
   },
   "source": [
    "To get the unique values and the corresponding counts for a column:\n"
   ]
  },
  {
   "cell_type": "code",
   "execution_count": null,
   "metadata": {
    "colab": {},
    "colab_type": "code",
    "id": "kU5rz-h9yGC0"
   },
   "outputs": [],
   "source": [
    "df_titan['Pclass'].value_counts()  #only works for individual column."
   ]
  },
  {
   "cell_type": "markdown",
   "metadata": {
    "colab_type": "text",
    "id": "YEy0GU0by1zz"
   },
   "source": [
    "## **Exploration via Visualization**"
   ]
  },
  {
   "cell_type": "code",
   "execution_count": null,
   "metadata": {
    "colab": {},
    "colab_type": "code",
    "id": "y2tR_EUDPO1k"
   },
   "outputs": [],
   "source": [
    "df_titan.hist()"
   ]
  },
  {
   "cell_type": "code",
   "execution_count": null,
   "metadata": {
    "colab": {},
    "colab_type": "code",
    "id": "jEAyEzXVbD6f"
   },
   "outputs": [],
   "source": [
    "df_titan.hist('Survived', by='Sex')"
   ]
  },
  {
   "cell_type": "markdown",
   "metadata": {
    "colab_type": "text",
    "id": "2WlFmXS4zEZG"
   },
   "source": [
    "## **You can also try seaborn**"
   ]
  },
  {
   "cell_type": "code",
   "execution_count": null,
   "metadata": {
    "colab": {},
    "colab_type": "code",
    "id": "WV2BpRP2b0Kg"
   },
   "outputs": [],
   "source": [
    "import seaborn as sns\n",
    "sns.catplot(x='Survived', kind='count', hue='Sex', data=df_titan)"
   ]
  },
  {
   "cell_type": "code",
   "execution_count": null,
   "metadata": {
    "colab": {},
    "colab_type": "code",
    "id": "kEPLWyYi2yby"
   },
   "outputs": [],
   "source": [
    "sns.distplot(df_titan['Age'])"
   ]
  },
  {
   "cell_type": "code",
   "execution_count": null,
   "metadata": {
    "colab": {},
    "colab_type": "code",
    "id": "2iqrAkWU2yTf"
   },
   "outputs": [],
   "source": [
    "sns.distplot(df_titan['Fare'])"
   ]
  },
  {
   "cell_type": "code",
   "execution_count": null,
   "metadata": {
    "colab": {},
    "colab_type": "code",
    "id": "IiQBb0OT3Mxn"
   },
   "outputs": [],
   "source": [
    "sns.pairplot(df_titan, hue='Sex')"
   ]
  },
  {
   "cell_type": "code",
   "execution_count": null,
   "metadata": {
    "colab": {},
    "colab_type": "code",
    "id": "x_1SJpoi4a_c"
   },
   "outputs": [],
   "source": [
    "sns.catplot(x='Survived', y='Fare', kind='box', data=df_titan)"
   ]
  },
  {
   "cell_type": "markdown",
   "metadata": {
    "colab_type": "text",
    "id": "DXs1nFYn-xGX"
   },
   "source": [
    "# DataCleaning"
   ]
  },
  {
   "cell_type": "markdown",
   "metadata": {
    "colab_type": "text",
    "id": "-XmFHIZr4lsH"
   },
   "source": [
    "## **Missing Data**"
   ]
  },
  {
   "cell_type": "markdown",
   "metadata": {
    "colab_type": "text",
    "id": "TiqrQBks4pag"
   },
   "source": [
    "**Check if there is any missing data**"
   ]
  },
  {
   "cell_type": "markdown",
   "metadata": {
    "colab_type": "text",
    "id": "sktljl4e45Ve"
   },
   "source": [
    "From descriptive statistics"
   ]
  },
  {
   "cell_type": "code",
   "execution_count": null,
   "metadata": {
    "colab": {},
    "colab_type": "code",
    "id": "UCl1fZs54wTg"
   },
   "outputs": [],
   "source": [
    "df_titan.describe(include='all')"
   ]
  },
  {
   "cell_type": "markdown",
   "metadata": {
    "colab_type": "text",
    "id": "KrK09etV44vH"
   },
   "source": [
    "Another quick way to find out."
   ]
  },
  {
   "cell_type": "code",
   "execution_count": null,
   "metadata": {
    "colab": {},
    "colab_type": "code",
    "id": "mRmMunARiDpr"
   },
   "outputs": [],
   "source": [
    "df_titan.isnull().sum()"
   ]
  },
  {
   "cell_type": "markdown",
   "metadata": {
    "colab_type": "text",
    "id": "wtjrZWmP5hJ2"
   },
   "source": [
    "## **Deal with Missing Data by Removing**"
   ]
  },
  {
   "cell_type": "markdown",
   "metadata": {
    "colab_type": "text",
    "id": "uXqbIKFP5tff"
   },
   "source": [
    "\n",
    "Removing rows with missing data by using dropna().\n",
    "\n",
    "\n"
   ]
  },
  {
   "cell_type": "code",
   "execution_count": null,
   "metadata": {
    "colab": {},
    "colab_type": "code",
    "id": "dJnTcoTY5w1_"
   },
   "outputs": [],
   "source": [
    "df_titan.dropna()  # original dataframe will not be replaced automatically."
   ]
  },
  {
   "cell_type": "code",
   "execution_count": null,
   "metadata": {
    "colab": {},
    "colab_type": "code",
    "id": "Wvz7Bmmk7Gp6"
   },
   "outputs": [],
   "source": [
    "df_titan.dropna().isnull().sum()"
   ]
  },
  {
   "cell_type": "code",
   "execution_count": null,
   "metadata": {},
   "outputs": [],
   "source": [
    "df_titan.dropna().describe()"
   ]
  },
  {
   "cell_type": "markdown",
   "metadata": {
    "colab_type": "text",
    "id": "kHSJdJ3h7XJH"
   },
   "source": [
    "Removing columns with missing data by specifying axis=1"
   ]
  },
  {
   "cell_type": "code",
   "execution_count": null,
   "metadata": {
    "colab": {},
    "colab_type": "code",
    "id": "o_gLJ8jd7YnA"
   },
   "outputs": [],
   "source": [
    "df_tips.dropna(axis=1)  # age and cabin dropped."
   ]
  },
  {
   "cell_type": "code",
   "execution_count": null,
   "metadata": {
    "colab": {},
    "colab_type": "code",
    "id": "JYdzMzLk7bbJ"
   },
   "outputs": [],
   "source": [
    "df_titan.dropna(axis=1).isnull().sum()"
   ]
  },
  {
   "cell_type": "markdown",
   "metadata": {
    "colab_type": "text",
    "id": "iEBLHVb57s6P"
   },
   "source": [
    "If you know which column to drop."
   ]
  },
  {
   "cell_type": "code",
   "execution_count": null,
   "metadata": {
    "colab": {},
    "colab_type": "code",
    "id": "xEOdhkTag_5o"
   },
   "outputs": [],
   "source": [
    "df_titan.drop(columns=['Age']).isnull().sum()"
   ]
  },
  {
   "cell_type": "markdown",
   "metadata": {
    "colab_type": "text",
    "id": "Bq2dnP-s72lU"
   },
   "source": [
    "Set threshhold to remove.\n"
   ]
  },
  {
   "cell_type": "code",
   "execution_count": null,
   "metadata": {
    "colab": {},
    "colab_type": "code",
    "id": "l2cMfKCUg_c-"
   },
   "outputs": [],
   "source": [
    "# keep rows with at least 11 non-missing data. i.e. rows missing both age and cabin get dropped.\n",
    "df_titan.dropna(thresh=11).isnull().sum()"
   ]
  },
  {
   "cell_type": "code",
   "execution_count": null,
   "metadata": {
    "colab": {},
    "colab_type": "code",
    "id": "Dht8MBPS4VtT"
   },
   "outputs": [],
   "source": [
    "df_titan.dropna(thresh=11).info()"
   ]
  },
  {
   "cell_type": "markdown",
   "metadata": {
    "colab_type": "text",
    "id": "u_oetkAf8EfJ"
   },
   "source": [
    "Original dataframe remains unchanged"
   ]
  },
  {
   "cell_type": "code",
   "execution_count": null,
   "metadata": {
    "colab": {},
    "colab_type": "code",
    "id": "tm5rd8bqg_Cg"
   },
   "outputs": [],
   "source": [
    "df_titan.isnull().sum()  #inplace=True"
   ]
  },
  {
   "cell_type": "markdown",
   "metadata": {
    "colab_type": "text",
    "id": "2orsm6Ov8TPe"
   },
   "source": [
    "## **Dealing with Missing Data by Imputing**"
   ]
  },
  {
   "cell_type": "markdown",
   "metadata": {
    "colab_type": "text",
    "id": "rg-4w3f_8oS6"
   },
   "source": [
    "### Impute with a constant with fillna()."
   ]
  },
  {
   "cell_type": "code",
   "execution_count": null,
   "metadata": {
    "colab": {},
    "colab_type": "code",
    "id": "C5A8KAELg-oU"
   },
   "outputs": [],
   "source": [
    "df_titan.fillna(1)  #fill all NaN with 1."
   ]
  },
  {
   "cell_type": "code",
   "execution_count": null,
   "metadata": {
    "colab": {},
    "colab_type": "code",
    "id": "HO7uqyoPg-Po"
   },
   "outputs": [],
   "source": [
    "# different value for two columns.\n",
    "df_titan.fillna({'Age': 20, 'Cabin': 'B96'})"
   ]
  },
  {
   "cell_type": "code",
   "execution_count": null,
   "metadata": {
    "colab": {},
    "colab_type": "code",
    "id": "3VJcMXoO8sNE"
   },
   "outputs": [],
   "source": [
    "df_titan.fillna({'Age': 20, 'Cabin': 'B96'}).isnull().sum()"
   ]
  },
  {
   "cell_type": "code",
   "execution_count": null,
   "metadata": {
    "colab": {},
    "colab_type": "code",
    "id": "pBcpQNhR8zJX"
   },
   "outputs": [],
   "source": [
    "df_titan.fillna({'Age': 20, 'Cabin': 'B96'}).describe()"
   ]
  },
  {
   "cell_type": "code",
   "execution_count": null,
   "metadata": {
    "colab": {},
    "colab_type": "code",
    "id": "LVAHWlkr5m8z"
   },
   "outputs": [],
   "source": [
    "df_titan.describe()"
   ]
  },
  {
   "cell_type": "markdown",
   "metadata": {
    "colab_type": "text",
    "id": "ouVoanyf85HV"
   },
   "source": [
    "### Impute with mean/median/mode.\n"
   ]
  },
  {
   "cell_type": "code",
   "execution_count": null,
   "metadata": {
    "colab": {},
    "colab_type": "code",
    "id": "Bq563mF8iDl0"
   },
   "outputs": [],
   "source": [
    "df_titan.fillna({\n",
    "    'Age': df_titan['Age'].mean(),\n",
    "    \"Cabin\": df_titan['Cabin'].mode()\n",
    "}).head()"
   ]
  },
  {
   "cell_type": "code",
   "execution_count": null,
   "metadata": {
    "colab": {},
    "colab_type": "code",
    "id": "1HIzVuPloKLU"
   },
   "outputs": [],
   "source": [
    "df_titan.fillna({\n",
    "    'Age': df_titan['Age'].mean(),\n",
    "    \"Cabin\": df_titan['Cabin'].mode()\n",
    "}).head().describe()"
   ]
  },
  {
   "cell_type": "markdown",
   "metadata": {
    "colab_type": "text",
    "id": "M1b3IPeB9LRx"
   },
   "source": [
    "### Exercise"
   ]
  },
  {
   "cell_type": "markdown",
   "metadata": {
    "colab_type": "text",
    "id": "nldnXShR9NuI"
   },
   "source": [
    "Replace all missing ages with mean and drop the Cabin column.\n"
   ]
  },
  {
   "cell_type": "code",
   "execution_count": null,
   "metadata": {
    "colab": {},
    "colab_type": "code",
    "id": "YzA_Cob194Og"
   },
   "outputs": [],
   "source": [
    "df_titan1 = df_titan.fillna({'Age': df_titan['Age'].mean()}).dropna(axis=1)"
   ]
  },
  {
   "cell_type": "code",
   "execution_count": null,
   "metadata": {
    "colab": {},
    "colab_type": "code",
    "id": "P6zZkNx394Jv"
   },
   "outputs": [],
   "source": [
    "df_titan1.isnull().sum()"
   ]
  },
  {
   "cell_type": "markdown",
   "metadata": {
    "colab_type": "text",
    "id": "exSSXE5697c6"
   },
   "source": [
    "### Removing Unnecessary Data"
   ]
  },
  {
   "cell_type": "markdown",
   "metadata": {
    "colab_type": "text",
    "id": "-e1HCU149-wj"
   },
   "source": [
    "Remove irrelevant columns (variables) using drop(columns = [column names]). \n"
   ]
  },
  {
   "cell_type": "code",
   "execution_count": null,
   "metadata": {
    "colab": {},
    "colab_type": "code",
    "id": "s257EbYWiDc4"
   },
   "outputs": [],
   "source": [
    "df_titan.drop(columns=['Ticket']).head()"
   ]
  },
  {
   "cell_type": "code",
   "execution_count": null,
   "metadata": {
    "colab": {},
    "colab_type": "code",
    "id": "O5hESNjn-S61"
   },
   "outputs": [],
   "source": [
    "df_titan.info()"
   ]
  },
  {
   "cell_type": "code",
   "execution_count": null,
   "metadata": {
    "colab": {},
    "colab_type": "code",
    "id": "fTPbDZlLnS56"
   },
   "outputs": [],
   "source": [
    "df_titan_cleaned = df_titan.fillna({\n",
    "    'Age': df_titan['Age'].mean(),\n",
    "    'Embarked': df_titan['Embarked'].mode()\n",
    "}).dropna(axis=1)\n",
    "df_titan_cleaned.head()"
   ]
  },
  {
   "cell_type": "code",
   "execution_count": null,
   "metadata": {
    "colab": {},
    "colab_type": "code",
    "id": "u4ecjUrRqNzC"
   },
   "outputs": [],
   "source": [
    "df_titan_cleaned.info()"
   ]
  },
  {
   "cell_type": "code",
   "execution_count": null,
   "metadata": {
    "colab": {},
    "colab_type": "code",
    "id": "INhvsytG-dTZ"
   },
   "outputs": [],
   "source": [
    "df_titan_cleaned.drop(columns=['Ticket'], inplace=True)"
   ]
  },
  {
   "cell_type": "code",
   "execution_count": null,
   "metadata": {
    "colab": {},
    "colab_type": "code",
    "id": "KQpyuelU-mJp"
   },
   "outputs": [],
   "source": [
    "df_titan_cleaned.info()"
   ]
  },
  {
   "cell_type": "markdown",
   "metadata": {
    "colab_type": "text",
    "id": "IfdQDTFP-qRp"
   },
   "source": [
    "### Dealing with Outliers"
   ]
  },
  {
   "cell_type": "code",
   "execution_count": null,
   "metadata": {
    "colab": {},
    "colab_type": "code",
    "id": "mwbp94FCrvzq"
   },
   "outputs": [],
   "source": [
    "top = df_titan['Age'].mean() + 2 * df_titan['Age'].std()\n",
    "top"
   ]
  },
  {
   "cell_type": "code",
   "execution_count": null,
   "metadata": {
    "colab": {},
    "colab_type": "code",
    "id": "9NacuexGrvxW"
   },
   "outputs": [],
   "source": [
    "bot = df_titan['Age'].mean() - 2 * df_titan['Age'].std()\n",
    "bot"
   ]
  },
  {
   "cell_type": "code",
   "execution_count": null,
   "metadata": {},
   "outputs": [],
   "source": [
    "df_titan['Age'].quantile()"
   ]
  },
  {
   "cell_type": "code",
   "execution_count": null,
   "metadata": {
    "colab": {},
    "colab_type": "code",
    "id": "dk4xWvcXrvuS"
   },
   "outputs": [],
   "source": [
    "df_titan_cleaned[df_titan_cleaned['Age'] > top].info()"
   ]
  },
  {
   "cell_type": "code",
   "execution_count": null,
   "metadata": {
    "colab": {},
    "colab_type": "code",
    "id": "W4G7sP02rvsA"
   },
   "outputs": [],
   "source": [
    "df_titan_cleaned[df_titan_cleaned['Age'] < bot].info()"
   ]
  },
  {
   "cell_type": "code",
   "execution_count": null,
   "metadata": {
    "colab": {},
    "colab_type": "code",
    "id": "Iqb0I8vXrvpD"
   },
   "outputs": [],
   "source": [
    "df_titan_cleaned = df_titan_cleaned.drop(\n",
    "    df_titan_cleaned[df_titan_cleaned['Age'] > top].index)\n",
    "df_titan_cleaned = df_titan_cleaned.drop(\n",
    "    df_titan_cleaned[df_titan_cleaned['Age'] < bot].index)\n",
    "df_titan_cleaned.info()"
   ]
  },
  {
   "cell_type": "code",
   "execution_count": null,
   "metadata": {
    "colab": {},
    "colab_type": "code",
    "id": "kntH_2sD_j_o"
   },
   "outputs": [],
   "source": [
    "df_titan_cleaned.describe(include='all')"
   ]
  }
 ],
 "metadata": {
  "colab": {
   "name": "pandas.ipynb",
   "provenance": []
  },
  "kernelspec": {
   "display_name": "Python 3",
   "language": "python",
   "name": "python3"
  },
  "language_info": {
   "codemirror_mode": {
    "name": "ipython",
    "version": 3
   },
   "file_extension": ".py",
   "mimetype": "text/x-python",
   "name": "python",
   "nbconvert_exporter": "python",
   "pygments_lexer": "ipython3",
   "version": "3.7.1"
  }
 },
 "nbformat": 4,
 "nbformat_minor": 1
}
