{
 "cells": [
  {
   "cell_type": "code",
   "execution_count": null,
   "metadata": {},
   "outputs": [],
   "source": [
    "#Jedlueng 26 January 2021 \n",
    "#Summary of seminar solution \n",
    "#Scapping email, phone, room and modules from the website \n"
   ]
  },
  {
   "cell_type": "code",
   "execution_count": 1,
   "metadata": {},
   "outputs": [],
   "source": [
    "#importing relevant module\n",
    "import csv \n",
    "import requests \n",
    "from bs4 import BeautifulSoup"
   ]
  },
  {
   "cell_type": "code",
   "execution_count": 2,
   "metadata": {},
   "outputs": [],
   "source": [
    "#Access webpage and phase using bs4 \n",
    "url = \"https://www.wbs.ac.uk/about/person/zhewei-zhang\"\n",
    "result = requests.get(url)\n",
    "url_content = BeautifulSoup(result.text, 'html.parser')\n",
    "contact = url_content.find(class_='contactinfo').find_all('a')"
   ]
  },
  {
   "cell_type": "code",
   "execution_count": 3,
   "metadata": {},
   "outputs": [],
   "source": [
    "#Information that we want is in the contract\n",
    "#Acces using indexing, text and strip all non-important element\n",
    "\n",
    "email = contact[0].text.strip()\n",
    "phone = contact[1].text.strip()\n",
    "room = contact[2].text.strip()"
   ]
  },
  {
   "cell_type": "code",
   "execution_count": 4,
   "metadata": {},
   "outputs": [],
   "source": [
    "#Access module using .find and list \n",
    "teaching = url_content.find(class_='teaching').find_all('li')\n",
    "modules = []\n",
    "for module in teaching:\n",
    "    modules.append(module.text.strip())\n"
   ]
  }
 ],
 "metadata": {
  "interpreter": {
   "hash": "31f2aee4e71d21fbe5cf8b01ff0e069b9275f58929596ceb00d14d90e3e16cd6"
  },
  "kernelspec": {
   "display_name": "Python 3.8.2 64-bit",
   "language": "python",
   "name": "python3"
  },
  "language_info": {
   "codemirror_mode": {
    "name": "ipython",
    "version": 3
   },
   "file_extension": ".py",
   "mimetype": "text/x-python",
   "name": "python",
   "nbconvert_exporter": "python",
   "pygments_lexer": "ipython3",
   "version": "3.8.2"
  },
  "orig_nbformat": 4
 },
 "nbformat": 4,
 "nbformat_minor": 2
}
