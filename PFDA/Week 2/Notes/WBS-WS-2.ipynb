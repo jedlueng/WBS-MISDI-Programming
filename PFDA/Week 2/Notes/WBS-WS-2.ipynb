{
 "cells": [
  {
   "cell_type": "code",
   "execution_count": null,
   "metadata": {},
   "outputs": [],
   "source": [
    "#Jedlueng \n",
    "#26 January 2022 \n",
    "#Summary > Getting all teachers' name"
   ]
  },
  {
   "cell_type": "code",
   "execution_count": null,
   "metadata": {},
   "outputs": [],
   "source": [
    "#Getting access to the website and phase using BS4\n",
    "url = \"https://www.wbs.ac.uk/research/staff/\"\n",
    "result = requests.get(url)\n",
    "url_content = BeautifulSoup(result.text, 'html.parser')"
   ]
  },
  {
   "cell_type": "code",
   "execution_count": null,
   "metadata": {},
   "outputs": [],
   "source": [
    "#person-thumbnail has all the information \n",
    "profiles = url_content.find_all(class_='person-thumbnail')"
   ]
  },
  {
   "cell_type": "code",
   "execution_count": null,
   "metadata": {},
   "outputs": [],
   "source": [
    "#Open CSV writer \n",
    "with open('profile.csv', 'a', newline=\"\", encoding='utf-8') as wf:\n",
    "    wbs_writer = csv.writer(wf)\n",
    "    for profile in profiles:\n",
    "        info = []\n",
    "        # .get() will return the value of the specified attribute\n",
    "        #append each information to the info list then write it to CSV\n",
    "        info.append(profile.get('data-fullname')) \n",
    "        info.append(profile.get('href'))\n",
    "        info.append(profile.get('data-jobtitle'))\n",
    "        wbs_writer.writerow(info)"
   ]
  }
 ],
 "metadata": {
  "language_info": {
   "name": "python"
  },
  "orig_nbformat": 4
 },
 "nbformat": 4,
 "nbformat_minor": 2
}
