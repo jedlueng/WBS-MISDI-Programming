{
 "cells": [
  {
   "cell_type": "code",
   "execution_count": null,
   "metadata": {},
   "outputs": [],
   "source": [
    "#Jedlueng 26 January 2021 \n",
    "#Scraping 3 webpages from wiki (5 previous versions)\n",
    "#Using full serch URL version "
   ]
  },
  {
   "cell_type": "code",
   "execution_count": 1,
   "metadata": {},
   "outputs": [],
   "source": [
    "#importing \n",
    "import requests\n",
    "import json\n",
    "import csv"
   ]
  },
  {
   "cell_type": "code",
   "execution_count": 2,
   "metadata": {},
   "outputs": [],
   "source": [
    "#URL \n",
    "url = \"https://en.wikipedia.org/w/api.php?action=query&format=json\\\n",
    "&prop=revisions&titles={}&formatversion=2&rvprop=timestamp|user|comment&rvlimit=5\"\n",
    "#Title of each uni to fit in the variables \n",
    "titles = [\n",
    "    'University of Warwick',\n",
    "    'Coventry University',\n",
    "    'University of Birmingham'\n",
    "]"
   ]
  },
  {
   "cell_type": "code",
   "execution_count": 7,
   "metadata": {},
   "outputs": [
    {
     "name": "stdout",
     "output_type": "stream",
     "text": [
      "{\"continue\":{\"rvcontinue\":\"20211212001152|1059844938\",\"continue\":\"||\"},\"query\":{\"pages\":[{\"pageid\":61115,\"ns\":0,\"title\":\"University of Warwick\",\"revisions\":[{\"user\":\"Itsmejudith\",\"timestamp\":\"2022-01-19T11:14:21Z\",\"comment\":\"/* Academics */ better heading for a UK uni\"},{\"user\":\"1.186.198.230\",\"anon\":true,\"timestamp\":\"2022-01-19T09:01:14Z\",\"comment\":\"/* Rankings and reputation */ARWU rankings are disputed.\"},{\"user\":\"CommonsDelinker\",\"timestamp\":\"2022-01-14T10:27:32Z\",\"comment\":\"Removing [[:c:File:University_of_Warwick_Arms.png|University_of_Warwick_Arms.png]]; it has been deleted from Commons by [[:c:User:Josve05a|Josve05a]] because: [[:c:COM:VRTS|VRTS]]: Unaccepted or insufficient permission for use on Commons: [[:c:ticket:2022\"},{\"user\":\"Citation bot\",\"timestamp\":\"2022-01-13T17:01:32Z\",\"comment\":\"Alter: template type. Add: newspaper, date, work, title. Removed parameters. Some additions/deletions were parameter name changes. | [[WP:UCB|Use this bot]]. [[WP:DBUG|Report bugs]]. | Suggested by Goszei | Linked from User:Goszei/sandbox | #UCB_webform_linked 159/1000\"},{\"user\":\"2A02:C7F:E071:A100:58CE:9B14:2D13:DFF7\",\"anon\":true,\"timestamp\":\"2021-12-13T12:53:37Z\",\"comment\":\"/* Student housing */\"}]}]}}\n",
      "{\"continue\":{\"rvcontinue\":\"20210808022233|1037679365\",\"continue\":\"||\"},\"query\":{\"pages\":[{\"pageid\":703404,\"ns\":0,\"title\":\"Coventry University\",\"revisions\":[{\"user\":\"Rlink2\",\"timestamp\":\"2022-01-12T21:58:13Z\",\"comment\":\"Adding archives to assist with [[Wikipedia:Verifiability]], [[WP:SOURCEACCESS]]\"},{\"user\":\"2400:1A00:B020:4025:9D36:DA2C:D764:5F4D\",\"anon\":true,\"timestamp\":\"2021-12-30T11:13:21Z\",\"comment\":\"/* Rankings */\"},{\"user\":\"80.4.90.237\",\"anon\":true,\"timestamp\":\"2021-08-25T22:51:41Z\",\"comment\":\"Uncited vandalism?\"},{\"user\":\"Citation bot\",\"timestamp\":\"2021-08-12T04:35:52Z\",\"comment\":\"Alter: template type. Add: title. Changed bare reference to CS1/2. | [[WP:UCB|Use this bot]]. [[WP:DBUG|Report bugs]]. | Suggested by BrownHairedGirl | Linked from User:BrownHairedGirl/Articles_with_bare_links | #UCB_webform_linked 557/2144\"},{\"user\":\"AnomieBOT\",\"timestamp\":\"2021-08-08T06:33:40Z\",\"comment\":\"Fixing reference errors\"}]}]}}\n",
      "{\"continue\":{\"rvcontinue\":\"20211123233201|1056852687\",\"continue\":\"||\"},\"query\":{\"pages\":[{\"pageid\":209935,\"ns\":0,\"title\":\"University of Birmingham\",\"revisions\":[{\"user\":\"Billjones94\",\"timestamp\":\"2022-01-17T07:41:26Z\",\"comment\":\"\"},{\"user\":\"Joshuaaa kk\",\"timestamp\":\"2021-12-02T15:20:57Z\",\"comment\":\"Institution to university\"},{\"user\":\"MarcGarver\",\"timestamp\":\"2021-11-29T15:58:03Z\",\"comment\":\"two reverts - one vandalism, the other uncited potential spam\"},{\"user\":\"147.188.245.218\",\"anon\":true,\"timestamp\":\"2021-11-29T15:54:22Z\",\"comment\":\"\"},{\"user\":\"147.188.245.218\",\"anon\":true,\"timestamp\":\"2021-11-29T15:53:35Z\",\"comment\":\"\"}]}]}}\n"
     ]
    }
   ],
   "source": [
    "#Looping to each title and scrap each one \n",
    "for title in titles:\n",
    "    #Request entre to each pages\n",
    "    result = requests.get(url.format(title))\n",
    "    print(result.text)"
   ]
  },
  {
   "cell_type": "code",
   "execution_count": 8,
   "metadata": {},
   "outputs": [
    {
     "name": "stdout",
     "output_type": "stream",
     "text": [
      "{'user': 'Billjones94', 'timestamp': '2022-01-17T07:41:26Z', 'comment': ''}\n"
     ]
    }
   ],
   "source": [
    "    #Change result to Json    \n",
    "    result_dict = json.loads(result.text)\n",
    "    #Targeted print \n",
    "    print(result_dict['query']['pages'][0]['revisions'][0])\n",
    "    revisions = result_dict['query']['pages'][0]['revisions']"
   ]
  },
  {
   "cell_type": "code",
   "execution_count": 9,
   "metadata": {},
   "outputs": [],
   "source": [
    "    for revision in revisions:\n",
    "        record = [title]\n",
    "        for value in revision.values():\n",
    "            record.append(value)\n",
    "        with open('wiki1.csv', 'a', newline=\"\") as savefile:\n",
    "            writecsv = csv.writer(savefile)\n",
    "            writecsv.writerow(record)"
   ]
  }
 ],
 "metadata": {
  "interpreter": {
   "hash": "31f2aee4e71d21fbe5cf8b01ff0e069b9275f58929596ceb00d14d90e3e16cd6"
  },
  "kernelspec": {
   "display_name": "Python 3.8.2 64-bit",
   "language": "python",
   "name": "python3"
  },
  "language_info": {
   "codemirror_mode": {
    "name": "ipython",
    "version": 3
   },
   "file_extension": ".py",
   "mimetype": "text/x-python",
   "name": "python",
   "nbconvert_exporter": "python",
   "pygments_lexer": "ipython3",
   "version": "3.8.2"
  },
  "orig_nbformat": 4
 },
 "nbformat": 4,
 "nbformat_minor": 2
}
