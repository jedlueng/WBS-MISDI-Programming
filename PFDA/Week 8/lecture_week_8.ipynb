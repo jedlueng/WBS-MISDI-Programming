{
 "cells": [
  {
   "cell_type": "markdown",
   "metadata": {
    "id": "aJKg4QxQ_3Af"
   },
   "source": [
    "# **Machine Learning with Scikit-Learn**"
   ]
  },
  {
   "cell_type": "markdown",
   "metadata": {
    "id": "xjeEGaRhcd1R"
   },
   "source": [
    "# Data Processing with SKlearn"
   ]
  },
  {
   "cell_type": "code",
   "execution_count": null,
   "metadata": {
    "id": "WgxXq87_gbo4"
   },
   "outputs": [],
   "source": [
    "import pandas as pd\n",
    "import seaborn as sns\n",
    "df_titan = pd.read_csv('titanic_train.csv')\n",
    "df_titan.head()"
   ]
  },
  {
   "cell_type": "markdown",
   "metadata": {
    "id": "HfWVIm40cd1R"
   },
   "source": [
    "## Imputation"
   ]
  },
  {
   "cell_type": "code",
   "execution_count": null,
   "metadata": {
    "id": "VKzQZyNkgbpJ"
   },
   "outputs": [],
   "source": [
    "from sklearn.impute import SimpleImputer"
   ]
  },
  {
   "cell_type": "code",
   "execution_count": null,
   "metadata": {
    "id": "L063ytuWgbpP"
   },
   "outputs": [],
   "source": [
    "imp = SimpleImputer(strategy='mean')"
   ]
  },
  {
   "cell_type": "code",
   "execution_count": null,
   "metadata": {
    "id": "LC_SHo9Ida2A"
   },
   "outputs": [],
   "source": [
    "from sklearn.experimental import enable_iterative_imputer\n",
    "from sklearn.impute import IterativeImputer\n",
    "#imp = IterativeImputer(n_nearest_features=2)"
   ]
  },
  {
   "cell_type": "code",
   "execution_count": null,
   "metadata": {
    "id": "biaGppZIdahF"
   },
   "outputs": [],
   "source": [
    "from sklearn.impute import KNNImputer\n",
    "#imp = KNNImputer(n_neighbors=2, weights=\"uniform\")"
   ]
  },
  {
   "cell_type": "code",
   "execution_count": null,
   "metadata": {
    "id": "szLLHU1fczHk"
   },
   "outputs": [],
   "source": [
    "imp.fit(df_titan[['Age']])"
   ]
  },
  {
   "cell_type": "code",
   "execution_count": null,
   "metadata": {
    "id": "k68KupznxMf9"
   },
   "outputs": [],
   "source": [
    "df_titan['Age'] = imp.transform(df_titan[['Age']])"
   ]
  },
  {
   "cell_type": "code",
   "execution_count": null,
   "metadata": {
    "id": "NzkQI5iXgbpT"
   },
   "outputs": [],
   "source": [
    "#df_titan['Age'] = imp.fit_transform(df_titan[['Age']])"
   ]
  },
  {
   "cell_type": "code",
   "execution_count": null,
   "metadata": {
    "id": "m21c4HY-cd1R"
   },
   "outputs": [],
   "source": [
    "df_titan"
   ]
  },
  {
   "cell_type": "code",
   "execution_count": null,
   "metadata": {
    "id": "N5HMRDpmcd1R"
   },
   "outputs": [],
   "source": [
    "df_titan['Age'].isnull().sum()"
   ]
  },
  {
   "cell_type": "code",
   "execution_count": null,
   "metadata": {
    "id": "a5p6pAE1gbpY"
   },
   "outputs": [],
   "source": [
    "imp = SimpleImputer(strategy='most_frequent')"
   ]
  },
  {
   "cell_type": "code",
   "execution_count": null,
   "metadata": {
    "id": "-7EFX9UWgbpc"
   },
   "outputs": [],
   "source": [
    "df_titan = pd.DataFrame(imp.fit_transform(df_titan))  # return a ndarray"
   ]
  },
  {
   "cell_type": "code",
   "execution_count": null,
   "metadata": {
    "id": "QXKPQMhxgbpj"
   },
   "outputs": [],
   "source": [
    "df_titan.head()"
   ]
  },
  {
   "cell_type": "markdown",
   "metadata": {
    "id": "r_Gy_YwXcd1S"
   },
   "source": [
    "## Scaling"
   ]
  },
  {
   "cell_type": "markdown",
   "metadata": {
    "id": "BydhsC3Ocd1S"
   },
   "source": [
    "### Standardization"
   ]
  },
  {
   "cell_type": "code",
   "execution_count": null,
   "metadata": {
    "id": "vyC56BmhgbqA"
   },
   "outputs": [],
   "source": [
    "from sklearn.preprocessing import StandardScaler\n",
    "scaler = StandardScaler()"
   ]
  },
  {
   "cell_type": "code",
   "execution_count": null,
   "metadata": {
    "id": "-RZHeYZuAwsV"
   },
   "outputs": [],
   "source": [
    "df_titan = pd.read_csv('titanic_train.csv')"
   ]
  },
  {
   "cell_type": "code",
   "execution_count": null,
   "metadata": {
    "id": "pYDPtxCggbqD"
   },
   "outputs": [],
   "source": [
    "#make sure df_titan is a dataframe to use column name Age\n",
    "df_titan['Age'] = scaler.fit_transform(df_titan[['Age']])\n",
    "#df_titan[5] = scaler.fit_transform(df_titan[[5]])"
   ]
  },
  {
   "cell_type": "code",
   "execution_count": null,
   "metadata": {
    "id": "O6n1RZEogbqJ"
   },
   "outputs": [],
   "source": [
    "df_titan.head()"
   ]
  },
  {
   "cell_type": "code",
   "execution_count": null,
   "metadata": {
    "id": "L438oLT8__LW"
   },
   "outputs": [],
   "source": [
    "sns.displot(df_titan['Age'])\n",
    "#sns.displot(df_titan[5])"
   ]
  },
  {
   "cell_type": "markdown",
   "metadata": {
    "id": "AzqKw4OCAol8"
   },
   "source": [
    "### MinMaxScaling"
   ]
  },
  {
   "cell_type": "code",
   "execution_count": null,
   "metadata": {
    "id": "IPYHUhGXgbqP"
   },
   "outputs": [],
   "source": [
    "from sklearn.preprocessing import MinMaxScaler\n",
    "scaler = MinMaxScaler()"
   ]
  },
  {
   "cell_type": "code",
   "execution_count": null,
   "metadata": {
    "id": "HoMq1eY5gbqT"
   },
   "outputs": [],
   "source": [
    "df_titan['Age'] = scaler.fit_transform(df_titan[['Age']])\n",
    "df_titan.head()"
   ]
  },
  {
   "cell_type": "code",
   "execution_count": null,
   "metadata": {
    "id": "2yyftBXsA0PC"
   },
   "outputs": [],
   "source": [
    "sns.displot(df_titan['Age'])"
   ]
  },
  {
   "cell_type": "markdown",
   "metadata": {
    "id": "u4jWIsi-cd1U"
   },
   "source": [
    "## Ordinal and OneHot Encoding"
   ]
  },
  {
   "cell_type": "code",
   "execution_count": null,
   "metadata": {
    "id": "fHooYnE_gbqa"
   },
   "outputs": [],
   "source": [
    "from sklearn.preprocessing import OrdinalEncoder\n",
    "enc = OrdinalEncoder()"
   ]
  },
  {
   "cell_type": "code",
   "execution_count": null,
   "metadata": {
    "id": "_64lxK9Cgbqh"
   },
   "outputs": [],
   "source": [
    "df_titan['Sex'] = enc.fit_transform(df_titan[['Sex']])\n",
    "df_titan.head()"
   ]
  },
  {
   "cell_type": "code",
   "execution_count": null,
   "metadata": {
    "id": "CsLQa08Fgbqm"
   },
   "outputs": [],
   "source": [
    "from sklearn.preprocessing import OneHotEncoder\n",
    "enc = OneHotEncoder()"
   ]
  },
  {
   "cell_type": "code",
   "execution_count": null,
   "metadata": {
    "id": "U_Izkzjecd1X"
   },
   "outputs": [],
   "source": [
    "enc.fit_transform(df_titan[['Sex']])"
   ]
  },
  {
   "cell_type": "code",
   "execution_count": null,
   "metadata": {
    "id": "6NZf9fy7gbqu"
   },
   "outputs": [],
   "source": [
    "df_titan['Sex'] = enc.fit_transform(df_titan[['Sex']])\n",
    "df_titan.head()"
   ]
  },
  {
   "cell_type": "markdown",
   "metadata": {
    "id": "OFObIX9Pcd1n"
   },
   "source": [
    "# Supervised Learning with Basic Decision Tree"
   ]
  },
  {
   "cell_type": "markdown",
   "metadata": {
    "id": "xwtVpSYWcd1n"
   },
   "source": [
    "## Step 1: Creating Training/Testing Dataset"
   ]
  },
  {
   "cell_type": "code",
   "execution_count": null,
   "metadata": {
    "id": "5hza7Tz_cd1o"
   },
   "outputs": [],
   "source": [
    "import pandas as pd\n",
    "import numpy as np\n",
    "import seaborn as sns"
   ]
  },
  {
   "cell_type": "code",
   "execution_count": null,
   "metadata": {
    "id": "hY5cEW4Lcd1o"
   },
   "outputs": [],
   "source": [
    "iris = sns.load_dataset('iris')"
   ]
  },
  {
   "cell_type": "code",
   "execution_count": null,
   "metadata": {
    "id": "-tZtX76vcd1o"
   },
   "outputs": [],
   "source": [
    "#split dataset in features and target variable\n",
    "feature_cols = ['sepal_length', 'sepal_width', 'petal_length', 'petal_width']\n",
    "X = iris[feature_cols]  # Features\n",
    "y = iris.species  # Target variable"
   ]
  },
  {
   "cell_type": "code",
   "execution_count": null,
   "metadata": {
    "id": "cCauV4G7cd1p"
   },
   "outputs": [],
   "source": [
    "from sklearn.model_selection import train_test_split  # Import train_test_split function\n",
    "# Split dataset into training set and test set\n",
    "X_train, X_test, y_train, y_test = train_test_split(\n",
    "    X, y, test_size=0.3, random_state=1)  # 70% training and 30% test"
   ]
  },
  {
   "cell_type": "code",
   "execution_count": null,
   "metadata": {
    "id": "s2dzLpsbcd1p"
   },
   "outputs": [],
   "source": [
    "X_test"
   ]
  },
  {
   "cell_type": "markdown",
   "metadata": {
    "id": "rTXZxl5Dcd1p"
   },
   "source": [
    "## Step 2: Instantiating the classifier"
   ]
  },
  {
   "cell_type": "code",
   "execution_count": null,
   "metadata": {
    "id": "addbV2n-cd1q"
   },
   "outputs": [],
   "source": [
    "from sklearn.tree import DecisionTreeClassifier  # Import Decision Tree Classifier"
   ]
  },
  {
   "cell_type": "code",
   "execution_count": null,
   "metadata": {
    "id": "JShrlW_Scd1q"
   },
   "outputs": [],
   "source": [
    "# Create Decision Tree classifer object with all default argument\n",
    "clf = DecisionTreeClassifier()"
   ]
  },
  {
   "cell_type": "markdown",
   "metadata": {
    "id": "Ndl0XjLhcd1q"
   },
   "source": [
    "## Step 3: Training the classifier"
   ]
  },
  {
   "cell_type": "code",
   "execution_count": null,
   "metadata": {
    "id": "wXDKqqemcd1r"
   },
   "outputs": [],
   "source": [
    "# Train Decision Tree Classifer\n",
    "clf = clf.fit(X_train, y_train)"
   ]
  },
  {
   "cell_type": "markdown",
   "metadata": {
    "id": "98ETTfjOcd1s"
   },
   "source": [
    "## Step 4: Making the prediction"
   ]
  },
  {
   "cell_type": "code",
   "execution_count": null,
   "metadata": {
    "id": "eHo6Gh2wcd1s"
   },
   "outputs": [],
   "source": [
    "#Predict the response for test dataset\n",
    "y_pred = clf.predict(X_test)"
   ]
  },
  {
   "cell_type": "markdown",
   "metadata": {
    "id": "ksejosQ5cd1s"
   },
   "source": [
    "## Step 5: Evaluating the performance"
   ]
  },
  {
   "cell_type": "code",
   "execution_count": null,
   "metadata": {
    "id": "L_WBahpAcd1t"
   },
   "outputs": [],
   "source": [
    "from sklearn import metrics  #Import scikit-learn metrics module for accuracy calculation\n",
    "# Model Accuracy, how often is the classifier correct?\n",
    "print(\"Accuracy:\", metrics.accuracy_score(y_test, y_pred))"
   ]
  },
  {
   "cell_type": "markdown",
   "metadata": {
    "id": "Cyb-Vbdhcd1t"
   },
   "source": [
    "## Step 6: Visualizing the tree"
   ]
  },
  {
   "cell_type": "code",
   "execution_count": null,
   "metadata": {
    "id": "DwzxWKzTcd1t"
   },
   "outputs": [],
   "source": [
    "from sklearn import tree\n",
    "tree.plot_tree(clf)  # added in version 0.21.3"
   ]
  },
  {
   "cell_type": "code",
   "execution_count": null,
   "metadata": {
    "id": "4dzTXb5Fcd1t"
   },
   "outputs": [],
   "source": [
    "# save your tree into a file\n",
    "import matplotlib.pyplot as plt\n",
    "plt.figure()\n",
    "tree.plot_tree(clf,\n",
    "               feature_names=[\n",
    "                   'sepal_length', 'sepal_width', 'petal_length', 'petal_width'\n",
    "               ])  # added in version 0.21.3\n",
    "plt.savefig('tree.svg', format='svg',\n",
    "            bbox_inches='tight')  #svg, png, eps, etc."
   ]
  }
 ],
 "metadata": {
  "colab": {
   "name": "week_4.ipynb",
   "provenance": [],
   "toc_visible": true
  },
  "kernelspec": {
   "display_name": "Python 3",
   "language": "python",
   "name": "python3"
  },
  "language_info": {
   "codemirror_mode": {
    "name": "ipython",
    "version": 3
   },
   "file_extension": ".py",
   "mimetype": "text/x-python",
   "name": "python",
   "nbconvert_exporter": "python",
   "pygments_lexer": "ipython3",
   "version": "3.7.1"
  }
 },
 "nbformat": 4,
 "nbformat_minor": 1
}
