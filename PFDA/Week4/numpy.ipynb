{
 "cells": [
  {
   "cell_type": "markdown",
   "metadata": {},
   "source": [
    "# Numpy notes by JedLueng 5 Feb 2021 \n"
   ]
  },
  {
   "cell_type": "markdown",
   "metadata": {},
   "source": [
    "Source:https://www.codecademy.com/article/introduction-to-numpy-and-pandas"
   ]
  },
  {
   "cell_type": "code",
   "execution_count": null,
   "metadata": {},
   "outputs": [],
   "source": [
    "NumPy = efficient numerical operations on large quantities of data. "
   ]
  },
  {
   "cell_type": "code",
   "execution_count": 1,
   "metadata": {},
   "outputs": [],
   "source": [
    "import numpy as np"
   ]
  },
  {
   "cell_type": "code",
   "execution_count": 2,
   "metadata": {},
   "outputs": [
    {
     "name": "stdout",
     "output_type": "stream",
     "text": [
      "[1 2 3 4 5]\n"
     ]
    }
   ],
   "source": [
    "#Make numpy array from list \n",
    "list1 = [1,2,3,4,5]\n",
    "array1 = np.array(list1)\n",
    "print(array1)"
   ]
  },
  {
   "cell_type": "code",
   "execution_count": 3,
   "metadata": {},
   "outputs": [
    {
     "name": "stdout",
     "output_type": "stream",
     "text": [
      "[[1 2 3]\n",
      " [4 5 6]]\n"
     ]
    }
   ],
   "source": [
    "#Make two dimension arrage \n",
    "list2 = [[1,2,3], [4,5,6]]\n",
    "array2 = np.array(list2)\n",
    "print(array2)"
   ]
  },
  {
   "cell_type": "markdown",
   "metadata": {},
   "source": [
    "Operation on NumPy arrays\n",
    "Selecting array elements\n",
    "\n",
    "Slicing arrays\n",
    "\n",
    "Reshaping arrays\n",
    "\n",
    "Splitting arrays\n",
    "\n",
    "Combining arrays\n",
    "\n",
    "Numerical operations (min, max, mean, etc)\n"
   ]
  },
  {
   "cell_type": "code",
   "execution_count": 5,
   "metadata": {},
   "outputs": [
    {
     "name": "stdout",
     "output_type": "stream",
     "text": [
      "[3 6 1 4]\n"
     ]
    }
   ],
   "source": [
    "toyPrices = np.array([5,8,3,6])\n",
    "print(toyPrices - 2) # Minus 2 in all numbers in numpy arrays \n",
    "#Faster than loop"
   ]
  }
 ],
 "metadata": {
  "interpreter": {
   "hash": "40e7d4bbb70552d2dbfc01d9c48a1b023097c4d41713c0cfb46a3636277fb6a3"
  },
  "kernelspec": {
   "display_name": "Python 3.8.8 64-bit ('base': conda)",
   "language": "python",
   "name": "python3"
  },
  "language_info": {
   "codemirror_mode": {
    "name": "ipython",
    "version": 3
   },
   "file_extension": ".py",
   "mimetype": "text/x-python",
   "name": "python",
   "nbconvert_exporter": "python",
   "pygments_lexer": "ipython3",
   "version": "3.8.8"
  },
  "orig_nbformat": 4
 },
 "nbformat": 4,
 "nbformat_minor": 2
}
