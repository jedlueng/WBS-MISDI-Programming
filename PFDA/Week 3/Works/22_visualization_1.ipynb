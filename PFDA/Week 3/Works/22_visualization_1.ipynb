{
  "nbformat": 4,
  "nbformat_minor": 0,
  "metadata": {
    "colab": {
      "name": "22-visualization-1.ipynb",
      "provenance": []
    },
    "kernelspec": {
      "name": "python3",
      "display_name": "Python 3"
    },
    "language_info": {
      "name": "python"
    }
  },
  "cells": [
    {
      "cell_type": "markdown",
      "metadata": {
        "id": "89z1SgnWKZs7"
      },
      "source": [
        "# **Visualization with Seaborn**"
      ]
    },
    {
      "cell_type": "markdown",
      "metadata": {
        "id": "qV9o8iMpKgTR"
      },
      "source": [
        "## Import module and dataset"
      ]
    },
    {
      "cell_type": "markdown",
      "metadata": {
        "id": "3oWCTCFmUjbV"
      },
      "source": [
        "if a module is not installed on Colab, you may run command by adding \"!\" at the begining, such as !pip install seaborn"
      ]
    },
    {
      "cell_type": "code",
      "metadata": {
        "id": "dmS9r7wZY4Ru"
      },
      "source": [
        "import seaborn as sns"
      ],
      "execution_count": null,
      "outputs": []
    },
    {
      "cell_type": "markdown",
      "metadata": {
        "id": "TeOBgj-bUoiV"
      },
      "source": [
        "Seaborn has a collection of toy datasets that you can load\n",
        "Dataset will be loaded as Pandas dataframe"
      ]
    },
    {
      "cell_type": "code",
      "metadata": {
        "id": "jH7xGyB-N6oU"
      },
      "source": [
        "tips = sns.load_dataset('tips')"
      ],
      "execution_count": null,
      "outputs": []
    },
    {
      "cell_type": "markdown",
      "metadata": {
        "id": "MqZGMsWfPQcL"
      },
      "source": [
        "## Scatter Plots"
      ]
    },
    {
      "cell_type": "markdown",
      "metadata": {
        "id": "4itB4AMcUe4F"
      },
      "source": [
        "Scatter plot explores the relationships between two variables"
      ]
    },
    {
      "cell_type": "code",
      "metadata": {
        "id": "UIN9RhR0PTea",
        "colab": {
          "base_uri": "https://localhost:8080/",
          "height": 403
        },
        "outputId": "72639626-c7b1-423b-ce70-a5d306cb4399"
      },
      "source": [
        "#basic scatter plot requires three arguments: x, y, data\n",
        "sns.relplot(x='total_bill',y='tip',data=tips)"
      ],
      "execution_count": null,
      "outputs": [
        {
          "output_type": "execute_result",
          "data": {
            "text/plain": [
              "<seaborn.axisgrid.FacetGrid at 0x7f5f49d760f0>"
            ]
          },
          "metadata": {
            "tags": []
          },
          "execution_count": 5
        },
        {
          "output_type": "display_data",
          "data": {
            "image/png": "[encoded data removed]",
            "text/plain": [
              "<Figure size 360x360 with 1 Axes>"
            ]
          },
          "metadata": {
            "tags": [],
            "needs_background": "light"
          }
        }
      ]
    },
    {
      "cell_type": "markdown",
      "metadata": {
        "id": "jmTYDQg6UvTG"
      },
      "source": [
        "Other dimensions can be used to create sub-groups in your plot. These groups can be distinguished by color, size and style"
      ]
    },
    {
      "cell_type": "code",
      "metadata": {
        "id": "Mj3dYU_NRiuW"
      },
      "source": [
        "# by color\n",
        "sns.relplot(x=\"total_bill\", y=\"tip\",hue='smoker', data=tips)"
      ],
      "execution_count": null,
      "outputs": []
    },
    {
      "cell_type": "code",
      "metadata": {
        "id": "bubczJKsU1MN"
      },
      "source": [
        "# by size\n",
        "sns.relplot(x=\"total_bill\", y=\"tip\", size='time', data=tips)"
      ],
      "execution_count": null,
      "outputs": []
    },
    {
      "cell_type": "code",
      "metadata": {
        "id": "weyIcluiU2-O"
      },
      "source": [
        "# by style\n",
        "sns.relplot(x=\"total_bill\", y=\"tip\",style='sex', data=tips)"
      ],
      "execution_count": null,
      "outputs": []
    },
    {
      "cell_type": "markdown",
      "metadata": {
        "id": "1NEc2ouBUZV4"
      },
      "source": [
        "## Line Plot"
      ]
    },
    {
      "cell_type": "markdown",
      "metadata": {
        "id": "pOMNIUg0VIrg"
      },
      "source": [
        "When you have continuous variables, such as time, it can be a good idea to view the changes with line plot. "
      ]
    },
    {
      "cell_type": "code",
      "metadata": {
        "id": "btqdyOXEUb61"
      },
      "source": [
        "#explicitly change the plot type by passing 'line' to argument kind\n",
        "sns.relplot(x=\"day\", y=\"tip\", kind='line', data=tips)"
      ],
      "execution_count": null,
      "outputs": []
    },
    {
      "cell_type": "code",
      "metadata": {
        "id": "omKzRWsXVkrU"
      },
      "source": [
        "#adjust the figure by changing ci \n",
        "sns.relplot(x=\"day\", y=\"tip\", kind='line', ci='sd',data=tips)"
      ],
      "execution_count": null,
      "outputs": []
    },
    {
      "cell_type": "code",
      "metadata": {
        "id": "SmXZi1D_WtSl"
      },
      "source": [
        "#additional dimensions can also be added to line plot\n",
        "sns.relplot(x=\"day\", y=\"tip\", kind='line', ci='sd',hue = 'sex', size = 'smoker', data=tips)"
      ],
      "execution_count": null,
      "outputs": []
    }
  ]
}