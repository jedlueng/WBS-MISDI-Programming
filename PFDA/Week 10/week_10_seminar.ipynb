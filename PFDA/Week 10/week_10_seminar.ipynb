{
  "cells": [
    {
      "cell_type": "code",
      "execution_count": 1,
      "id": "impressive-darkness",
      "metadata": {
        "id": "impressive-darkness"
      },
      "outputs": [],
      "source": [
        "import pandas as pd\n",
        "import seaborn as sns\n",
        "import numpy as np"
      ]
    },
    {
      "cell_type": "markdown",
      "source": [
        "# Data Prepare"
      ],
      "metadata": {
        "id": "ktfy-CaWv9nW"
      },
      "id": "ktfy-CaWv9nW"
    },
    {
      "cell_type": "code",
      "execution_count": 67,
      "metadata": {
        "id": "YzF-tT40v5fi"
      },
      "outputs": [],
      "source": [
        "df_titan = pd.read_csv('titanic_train.csv')\n",
        "titan_y = df_titan.Survived\n",
        "titan_x = df_titan.drop(columns=['Survived', 'PassengerId','Ticket','Cabin'])"
      ],
      "id": "YzF-tT40v5fi"
    },
    {
      "cell_type": "code",
      "execution_count": 79,
      "metadata": {
        "id": "nJPn9Ry5v5fk"
      },
      "outputs": [],
      "source": [
        "from sklearn.model_selection import train_test_split  \n",
        "X_train, X_test, Y_train, Y_test = train_test_split(\n",
        "    titan_x, titan_y, test_size=0.3, random_state=1) "
      ],
      "id": "nJPn9Ry5v5fk"
    },
    {
      "cell_type": "code",
      "execution_count": 95,
      "metadata": {
        "id": "xmh8CLKbv5fk"
      },
      "outputs": [],
      "source": [
        "def AddFeature(df):\n",
        "    df['noble'] = df['Name'].str.extract(r'\\b(\\w+)\\.')\n",
        "    df.loc[~df['noble'].isin(['Mr','Mrs','Miss','Miss','Ms']),'noble'] = 1\n",
        "    df.loc[df['noble'].isin(['Mr','Mrs','Miss','Miss','Ms']),'noble'] = 0\n",
        "    df = df.drop(columns=['Name'])\n",
        "    df['Family'] = df['Parch'] + df['SibSp']\n",
        "    df.loc[df['Family']>0, 'Family'] = 1\n",
        "    df.loc[df['Family']==0, 'Family'] = 0\n",
        "    df = df.drop(columns=['SibSp', 'Parch'])\n",
        "    return df"
      ],
      "id": "xmh8CLKbv5fk"
    },
    {
      "cell_type": "code",
      "execution_count": 96,
      "metadata": {
        "id": "6-5H0e4yv5fl"
      },
      "outputs": [],
      "source": [
        "from sklearn.compose import ColumnTransformer\n",
        "from sklearn.impute import SimpleImputer\n",
        "from sklearn.preprocessing import OneHotEncoder\n",
        "from sklearn.preprocessing import MinMaxScaler\n",
        "from sklearn.decomposition import PCA\n",
        "from sklearn.preprocessing import FunctionTransformer\n",
        "imp1 = SimpleImputer(strategy='mean')\n",
        "imp2 = SimpleImputer(strategy='most_frequent')\n",
        "enc = OneHotEncoder(sparse=False)\n",
        "scaler = MinMaxScaler()\n",
        "af = FunctionTransformer(AddFeature)\n",
        "tf = ColumnTransformer([('impa', imp1, [2,3]),('impb', imp2, [4])], remainder='passthrough')\n",
        "tf1 = ColumnTransformer([('enca', enc, [2,3,4])], remainder='passthrough')\n",
        "tf2 = ColumnTransformer([('scalera', scaler, [8,9])], remainder='passthrough')\n",
        "pca = PCA(n_components=8)"
      ],
      "id": "6-5H0e4yv5fl"
    },
    {
      "cell_type": "code",
      "source": [
        "from sklearn.pipeline import Pipeline\n",
        "steps = [('add', af),\n",
        "         ('tf', tf),\n",
        "         ('tf1', tf1),\n",
        "         ('tf2', tf2), \n",
        "         ('pca', pca)]\n",
        "pipe = Pipeline(steps)"
      ],
      "metadata": {
        "id": "jwQCqhKrwA3p"
      },
      "id": "jwQCqhKrwA3p",
      "execution_count": 80,
      "outputs": []
    },
    {
      "cell_type": "code",
      "source": [
        "X_train = pipe.fit_transform(X_train)"
      ],
      "metadata": {
        "id": "et6ayJ9OwJJe"
      },
      "id": "et6ayJ9OwJJe",
      "execution_count": 81,
      "outputs": []
    },
    {
      "cell_type": "code",
      "source": [
        "#X_train[0]\n",
        "#X_train.astype(float)"
      ],
      "metadata": {
        "id": "negj8aB_yyOA"
      },
      "id": "negj8aB_yyOA",
      "execution_count": 97,
      "outputs": []
    },
    {
      "cell_type": "markdown",
      "source": [
        "# Tensorflow"
      ],
      "metadata": {
        "id": "H2YFJBQ66ezK"
      },
      "id": "H2YFJBQ66ezK"
    },
    {
      "cell_type": "code",
      "source": [
        "#set to use tensorflow 2.0 as the backend\n",
        "#this is designed to work on Colab\n",
        "%tensorflow_version 2.x"
      ],
      "metadata": {
        "id": "YjMRK3Sn2MgW"
      },
      "execution_count": 9,
      "outputs": [],
      "id": "YjMRK3Sn2MgW"
    },
    {
      "cell_type": "code",
      "source": [
        "from tensorflow.keras import Sequential\n",
        "from tensorflow.keras.layers import Dense"
      ],
      "metadata": {
        "id": "YR3pjgvU9nhJ"
      },
      "execution_count": 83,
      "outputs": [],
      "id": "YR3pjgvU9nhJ"
    },
    {
      "cell_type": "code",
      "source": [
        "# define the network model\n",
        "network = Sequential()\n",
        "network.add(Dense(128, activation='relu', input_dim=8))\n",
        "network.add(Dense(256, activation='relu'))\n",
        "network.add(Dense(1, activation='sigmoid'))"
      ],
      "metadata": {
        "id": "qvwXYin49rqY"
      },
      "execution_count": 84,
      "outputs": [],
      "id": "qvwXYin49rqY"
    },
    {
      "cell_type": "code",
      "source": [
        "# compile your model\n",
        "network.compile(loss='binary_crossentropy',\n",
        "                optimizer='adam',\n",
        "                metrics=['accuracy'])"
      ],
      "metadata": {
        "id": "2cLwHuFz9uQY"
      },
      "execution_count": 85,
      "outputs": [],
      "id": "2cLwHuFz9uQY"
    },
    {
      "cell_type": "code",
      "source": [
        "network.fit(X_train,Y_train, epochs=50, batch_size=16) #X_train.astype(float) if skipping scaling"
      ],
      "metadata": {
        "id": "wwmk0cUw959n",
        "colab": {
          "base_uri": "https://localhost:8080/"
        },
        "outputId": "e66344b1-5241-4fb9-e17f-86e1a2182316"
      },
      "execution_count": 86,
      "outputs": [
        {
          "output_type": "stream",
          "name": "stdout",
          "text": [
            "Epoch 1/50\n",
            "39/39 [==============================] - 2s 8ms/step - loss: 0.5386 - accuracy: 0.7624\n",
            "Epoch 2/50\n",
            "39/39 [==============================] - 0s 9ms/step - loss: 0.4139 - accuracy: 0.8266\n",
            "Epoch 3/50\n",
            "39/39 [==============================] - 0s 8ms/step - loss: 0.3910 - accuracy: 0.8347\n",
            "Epoch 4/50\n",
            "39/39 [==============================] - 0s 8ms/step - loss: 0.3798 - accuracy: 0.8491\n",
            "Epoch 5/50\n",
            "39/39 [==============================] - 0s 8ms/step - loss: 0.3785 - accuracy: 0.8523\n",
            "Epoch 6/50\n",
            "39/39 [==============================] - 0s 8ms/step - loss: 0.3693 - accuracy: 0.8700\n",
            "Epoch 7/50\n",
            "39/39 [==============================] - 0s 10ms/step - loss: 0.3669 - accuracy: 0.8620\n",
            "Epoch 8/50\n",
            "39/39 [==============================] - 0s 10ms/step - loss: 0.3676 - accuracy: 0.8668\n",
            "Epoch 9/50\n",
            "39/39 [==============================] - 0s 9ms/step - loss: 0.3572 - accuracy: 0.8652\n",
            "Epoch 10/50\n",
            "39/39 [==============================] - 0s 8ms/step - loss: 0.3607 - accuracy: 0.8620\n",
            "Epoch 11/50\n",
            "39/39 [==============================] - 0s 7ms/step - loss: 0.3579 - accuracy: 0.8652\n",
            "Epoch 12/50\n",
            "39/39 [==============================] - 0s 7ms/step - loss: 0.3553 - accuracy: 0.8587\n",
            "Epoch 13/50\n",
            "39/39 [==============================] - 0s 8ms/step - loss: 0.3502 - accuracy: 0.8555\n",
            "Epoch 14/50\n",
            "39/39 [==============================] - 0s 8ms/step - loss: 0.3536 - accuracy: 0.8652\n",
            "Epoch 15/50\n",
            "39/39 [==============================] - 0s 8ms/step - loss: 0.3517 - accuracy: 0.8636\n",
            "Epoch 16/50\n",
            "39/39 [==============================] - 0s 7ms/step - loss: 0.3514 - accuracy: 0.8620\n",
            "Epoch 17/50\n",
            "39/39 [==============================] - 0s 8ms/step - loss: 0.3496 - accuracy: 0.8620\n",
            "Epoch 18/50\n",
            "39/39 [==============================] - 0s 7ms/step - loss: 0.3485 - accuracy: 0.8636\n",
            "Epoch 19/50\n",
            "39/39 [==============================] - 0s 8ms/step - loss: 0.3464 - accuracy: 0.8636\n",
            "Epoch 20/50\n",
            "39/39 [==============================] - 0s 8ms/step - loss: 0.3481 - accuracy: 0.8636\n",
            "Epoch 21/50\n",
            "39/39 [==============================] - 0s 7ms/step - loss: 0.3453 - accuracy: 0.8636\n",
            "Epoch 22/50\n",
            "39/39 [==============================] - 0s 7ms/step - loss: 0.3476 - accuracy: 0.8668\n",
            "Epoch 23/50\n",
            "39/39 [==============================] - 0s 7ms/step - loss: 0.3425 - accuracy: 0.8636\n",
            "Epoch 24/50\n",
            "39/39 [==============================] - 0s 8ms/step - loss: 0.3421 - accuracy: 0.8684\n",
            "Epoch 25/50\n",
            "39/39 [==============================] - 0s 8ms/step - loss: 0.3402 - accuracy: 0.8652\n",
            "Epoch 26/50\n",
            "39/39 [==============================] - 0s 8ms/step - loss: 0.3454 - accuracy: 0.8732\n",
            "Epoch 27/50\n",
            "39/39 [==============================] - 0s 7ms/step - loss: 0.3399 - accuracy: 0.8604\n",
            "Epoch 28/50\n",
            "39/39 [==============================] - 0s 5ms/step - loss: 0.3417 - accuracy: 0.8652\n",
            "Epoch 29/50\n",
            "39/39 [==============================] - 0s 4ms/step - loss: 0.3409 - accuracy: 0.8652\n",
            "Epoch 30/50\n",
            "39/39 [==============================] - 0s 4ms/step - loss: 0.3362 - accuracy: 0.8636\n",
            "Epoch 31/50\n",
            "39/39 [==============================] - 0s 4ms/step - loss: 0.3376 - accuracy: 0.8652\n",
            "Epoch 32/50\n",
            "39/39 [==============================] - 0s 4ms/step - loss: 0.3349 - accuracy: 0.8668\n",
            "Epoch 33/50\n",
            "39/39 [==============================] - 0s 5ms/step - loss: 0.3350 - accuracy: 0.8652\n",
            "Epoch 34/50\n",
            "39/39 [==============================] - 0s 5ms/step - loss: 0.3344 - accuracy: 0.8620\n",
            "Epoch 35/50\n",
            "39/39 [==============================] - 0s 4ms/step - loss: 0.3324 - accuracy: 0.8700\n",
            "Epoch 36/50\n",
            "39/39 [==============================] - 0s 5ms/step - loss: 0.3314 - accuracy: 0.8668\n",
            "Epoch 37/50\n",
            "39/39 [==============================] - 0s 4ms/step - loss: 0.3391 - accuracy: 0.8652\n",
            "Epoch 38/50\n",
            "39/39 [==============================] - 0s 4ms/step - loss: 0.3316 - accuracy: 0.8700\n",
            "Epoch 39/50\n",
            "39/39 [==============================] - 0s 4ms/step - loss: 0.3328 - accuracy: 0.8684\n",
            "Epoch 40/50\n",
            "39/39 [==============================] - 0s 5ms/step - loss: 0.3283 - accuracy: 0.8636\n",
            "Epoch 41/50\n",
            "39/39 [==============================] - 0s 4ms/step - loss: 0.3308 - accuracy: 0.8652\n",
            "Epoch 42/50\n",
            "39/39 [==============================] - 0s 5ms/step - loss: 0.3282 - accuracy: 0.8668\n",
            "Epoch 43/50\n",
            "39/39 [==============================] - 0s 4ms/step - loss: 0.3257 - accuracy: 0.8716\n",
            "Epoch 44/50\n",
            "39/39 [==============================] - 0s 4ms/step - loss: 0.3272 - accuracy: 0.8684\n",
            "Epoch 45/50\n",
            "39/39 [==============================] - 0s 4ms/step - loss: 0.3282 - accuracy: 0.8636\n",
            "Epoch 46/50\n",
            "39/39 [==============================] - 0s 4ms/step - loss: 0.3240 - accuracy: 0.8652\n",
            "Epoch 47/50\n",
            "39/39 [==============================] - 0s 4ms/step - loss: 0.3238 - accuracy: 0.8652\n",
            "Epoch 48/50\n",
            "39/39 [==============================] - 0s 4ms/step - loss: 0.3223 - accuracy: 0.8668\n",
            "Epoch 49/50\n",
            "39/39 [==============================] - 0s 4ms/step - loss: 0.3243 - accuracy: 0.8684\n",
            "Epoch 50/50\n",
            "39/39 [==============================] - 0s 4ms/step - loss: 0.3242 - accuracy: 0.8620\n"
          ]
        },
        {
          "output_type": "execute_result",
          "data": {
            "text/plain": [
              "<keras.callbacks.History at 0x7ff20518c510>"
            ]
          },
          "metadata": {},
          "execution_count": 86
        }
      ],
      "id": "wwmk0cUw959n"
    },
    {
      "cell_type": "markdown",
      "metadata": {
        "id": "stretch-batch"
      },
      "source": [
        "## Making Pipeline"
      ],
      "id": "stretch-batch"
    },
    {
      "cell_type": "code",
      "source": [
        "from tensorflow.keras.wrappers.scikit_learn import KerasClassifier"
      ],
      "metadata": {
        "id": "8x7yjmm3P1pi"
      },
      "id": "8x7yjmm3P1pi",
      "execution_count": 87,
      "outputs": []
    },
    {
      "cell_type": "code",
      "source": [
        "def create_model():\n",
        "    network = Sequential()\n",
        "    network.add(Dense(128, activation='relu', input_dim=8))\n",
        "    network.add(Dense(256, activation='relu'))\n",
        "    network.add(Dense(1, activation='sigmoid'))\n",
        "    network.compile(loss='binary_crossentropy',\n",
        "                optimizer='adam',#sgd\n",
        "                metrics=['accuracy'])\n",
        "    return network\n",
        "nn = KerasClassifier(build_fn=create_model, epochs=50, batch_size=16, verbose=0)"
      ],
      "metadata": {
        "colab": {
          "base_uri": "https://localhost:8080/"
        },
        "id": "Zn8XpjrxP8Ea",
        "outputId": "46ff9748-8f5d-4ff3-cc43-a48ab187e8c5"
      },
      "id": "Zn8XpjrxP8Ea",
      "execution_count": 88,
      "outputs": [
        {
          "output_type": "stream",
          "name": "stderr",
          "text": [
            "/usr/local/lib/python3.7/dist-packages/ipykernel_launcher.py:10: DeprecationWarning: KerasClassifier is deprecated, use Sci-Keras (https://github.com/adriangb/scikeras) instead. See https://www.adriangb.com/scikeras/stable/migration.html for help migrating.\n",
            "  # Remove the CWD from sys.path while we load stuff.\n"
          ]
        }
      ]
    },
    {
      "cell_type": "code",
      "source": [
        "# if skip scaling\n",
        "def toFloat(df):\n",
        "    return df.astype(float)\n",
        "tF = FunctionTransformer(toFloat)"
      ],
      "metadata": {
        "id": "LcUrGGHd1y_3"
      },
      "id": "LcUrGGHd1y_3",
      "execution_count": 54,
      "outputs": []
    },
    {
      "cell_type": "code",
      "execution_count": 89,
      "metadata": {
        "id": "excessive-sunset"
      },
      "outputs": [],
      "source": [
        "from sklearn.pipeline import Pipeline\n",
        "steps = [('add', af),\n",
        "         ('tf', tf),\n",
        "         ('tf1', tf1),\n",
        "         ('tf2', tf2),\n",
        "         ('pca', pca),\n",
        "         ('nn', nn)]\n",
        "pipe = Pipeline(steps)"
      ],
      "id": "excessive-sunset"
    },
    {
      "cell_type": "code",
      "execution_count": 90,
      "metadata": {
        "colab": {
          "base_uri": "https://localhost:8080/"
        },
        "id": "optional-casino",
        "outputId": "362a21e3-4667-477b-b05f-f7765b4346e9"
      },
      "outputs": [
        {
          "output_type": "execute_result",
          "data": {
            "text/plain": [
              "Pipeline(steps=[('add',\n",
              "                 FunctionTransformer(func=<function AddFeature at 0x7ff205b4ec20>)),\n",
              "                ('tf',\n",
              "                 ColumnTransformer(remainder='passthrough',\n",
              "                                   transformers=[('impa', SimpleImputer(),\n",
              "                                                  [2, 3]),\n",
              "                                                 ('impb',\n",
              "                                                  SimpleImputer(strategy='most_frequent'),\n",
              "                                                  [4])])),\n",
              "                ('tf1',\n",
              "                 ColumnTransformer(remainder='passthrough',\n",
              "                                   transformers=[('enca',\n",
              "                                                  OneHotEncoder(sparse=False),\n",
              "                                                  [2, 3, 4])])),\n",
              "                ('tf2',\n",
              "                 ColumnTransformer(remainder='passthrough',\n",
              "                                   transformers=[('scalera', MinMaxScaler(),\n",
              "                                                  [8, 9])])),\n",
              "                ('pca', PCA(n_components=8)),\n",
              "                ('nn',\n",
              "                 <keras.wrappers.scikit_learn.KerasClassifier object at 0x7ff2050b5610>)])"
            ]
          },
          "metadata": {},
          "execution_count": 90
        }
      ],
      "source": [
        "pipe.fit(titan_x, titan_y)"
      ],
      "id": "optional-casino"
    },
    {
      "cell_type": "code",
      "source": [
        "pipe.score(X_test, Y_test)"
      ],
      "metadata": {
        "id": "36EIBO4FRHgQ",
        "colab": {
          "base_uri": "https://localhost:8080/"
        },
        "outputId": "58e75179-6550-467e-f473-9a56061cdf77"
      },
      "id": "36EIBO4FRHgQ",
      "execution_count": 91,
      "outputs": [
        {
          "output_type": "execute_result",
          "data": {
            "text/plain": [
              "0.8097015023231506"
            ]
          },
          "metadata": {},
          "execution_count": 91
        }
      ]
    },
    {
      "cell_type": "code",
      "source": [
        "from sklearn.model_selection import KFold, cross_val_score\n",
        "kf = KFold()\n",
        "cross_val_score(pipe, titan_x, titan_y, cv=kf )"
      ],
      "metadata": {
        "colab": {
          "base_uri": "https://localhost:8080/"
        },
        "id": "IgDUjhRjRVNL",
        "outputId": "fb16f5ea-5edd-4e78-b678-d150fbade0d8"
      },
      "id": "IgDUjhRjRVNL",
      "execution_count": 92,
      "outputs": [
        {
          "output_type": "execute_result",
          "data": {
            "text/plain": [
              "array([0.79888266, 0.82584268, 0.81460673, 0.78651685, 0.85955054])"
            ]
          },
          "metadata": {},
          "execution_count": 92
        }
      ]
    },
    {
      "cell_type": "code",
      "source": [
        "titan_test = pd.read_csv('titanic_test.csv')\n",
        "pred = pipe.predict(titan_test)"
      ],
      "metadata": {
        "id": "TlGmIr6MXnJz"
      },
      "id": "TlGmIr6MXnJz",
      "execution_count": 93,
      "outputs": []
    },
    {
      "cell_type": "code",
      "source": [
        "np.savetxt(\"test.csv\", pred, delimiter=\",\")"
      ],
      "metadata": {
        "id": "1XejnQXeXp3Q"
      },
      "id": "1XejnQXeXp3Q",
      "execution_count": 94,
      "outputs": []
    }
  ],
  "metadata": {
    "colab": {
      "name": "week_10_seminar.ipynb",
      "provenance": []
    },
    "kernelspec": {
      "display_name": "Python 3",
      "language": "python",
      "name": "python3"
    },
    "language_info": {
      "codemirror_mode": {
        "name": "ipython",
        "version": 3
      },
      "file_extension": ".py",
      "mimetype": "text/x-python",
      "name": "python",
      "nbconvert_exporter": "python",
      "pygments_lexer": "ipython3",
      "version": "3.7.1"
    },
    "accelerator": "GPU"
  },
  "nbformat": 4,
  "nbformat_minor": 5
}