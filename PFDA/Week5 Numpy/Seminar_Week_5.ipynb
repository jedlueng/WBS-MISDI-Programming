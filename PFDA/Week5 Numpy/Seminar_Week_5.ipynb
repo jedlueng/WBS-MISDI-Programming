{
 "cells": [
  {
   "cell_type": "markdown",
   "id": "spectacular-opinion",
   "metadata": {},
   "source": [
    "## Exercise 1-1"
   ]
  },
  {
   "cell_type": "code",
   "execution_count": null,
   "id": "initial-genetics",
   "metadata": {},
   "outputs": [],
   "source": [
    "import numpy as np"
   ]
  },
  {
   "cell_type": "code",
   "execution_count": null,
   "id": "whole-volleyball",
   "metadata": {},
   "outputs": [],
   "source": [
    "game = np.genfromtxt('data/all_games.csv',\n",
    "                     delimiter=',',\n",
    "                     invalid_raise=False,\n",
    "                     usecols=[2, 3],\n",
    "                     max_rows=1000,\n",
    "                     skip_header=1,\n",
    "                     missing_values=['tbd', 'Nintendo'])# depends on irregular data"
   ]
  },
  {
   "cell_type": "code",
   "execution_count": null,
   "id": "looking-delicious",
   "metadata": {},
   "outputs": [],
   "source": [
    "#check the shape\n",
    "game.shape"
   ]
  },
  {
   "cell_type": "markdown",
   "id": "typical-journal",
   "metadata": {},
   "source": [
    "## Exercise 1-2"
   ]
  },
  {
   "cell_type": "code",
   "execution_count": null,
   "id": "authentic-radio",
   "metadata": {},
   "outputs": [],
   "source": [
    "import seaborn as sns"
   ]
  },
  {
   "cell_type": "code",
   "execution_count": null,
   "id": "single-greece",
   "metadata": {},
   "outputs": [],
   "source": [
    "sns.displot(game, kde=True)  #alternative to distplot"
   ]
  },
  {
   "cell_type": "code",
   "execution_count": null,
   "id": "driven-vietnam",
   "metadata": {},
   "outputs": [],
   "source": [
    "sns.displot(game[:, 0])"
   ]
  },
  {
   "cell_type": "code",
   "execution_count": null,
   "id": "visible-traffic",
   "metadata": {},
   "outputs": [],
   "source": [
    "sns.displot(game[:, 1])"
   ]
  },
  {
   "cell_type": "code",
   "execution_count": null,
   "id": "afraid-archive",
   "metadata": {},
   "outputs": [],
   "source": [
    "sns.relplot(x=game[:, 0], y=game[:, 1], kind='line')  #estimator=np.median"
   ]
  },
  {
   "cell_type": "code",
   "execution_count": null,
   "id": "intensive-enforcement",
   "metadata": {},
   "outputs": [],
   "source": [
    "game.reshape(2, 1000)  #would not work"
   ]
  },
  {
   "cell_type": "code",
   "execution_count": null,
   "id": "current-grill",
   "metadata": {},
   "outputs": [],
   "source": [
    "game.T #use transpose instead"
   ]
  },
  {
   "cell_type": "code",
   "execution_count": null,
   "id": "metallic-kennedy",
   "metadata": {},
   "outputs": [],
   "source": [
    "sns.relplot(x=game.T[0], y=game.T[1], kind='line')"
   ]
  },
  {
   "cell_type": "code",
   "execution_count": null,
   "id": "killing-rolling",
   "metadata": {},
   "outputs": [],
   "source": [
    "game = game[~np.isnan(game).any(axis=1)]  #remove rows with missing value"
   ]
  },
  {
   "cell_type": "code",
   "execution_count": null,
   "id": "educated-purse",
   "metadata": {},
   "outputs": [],
   "source": [
    "print(game.T[0].mean(), game.T[0].std())"
   ]
  },
  {
   "cell_type": "code",
   "execution_count": null,
   "id": "second-surveillance",
   "metadata": {
    "scrolled": true
   },
   "outputs": [],
   "source": [
    "print(game.T[1].mean(), game.T[1].std())"
   ]
  },
  {
   "cell_type": "markdown",
   "id": "cosmetic-novelty",
   "metadata": {},
   "source": [
    "### Exercise 1-3"
   ]
  },
  {
   "cell_type": "code",
   "execution_count": null,
   "id": "alpha-advantage",
   "metadata": {},
   "outputs": [],
   "source": [
    "game[game[:, 0] > 95]"
   ]
  },
  {
   "cell_type": "code",
   "execution_count": null,
   "id": "dress-tenant",
   "metadata": {},
   "outputs": [],
   "source": [
    "# optional, use “&” or “|” to join, instead of \"or\" or \"and\"\n",
    "game[(game[:, 0] > 95) & (game[:, 1] < 8)]"
   ]
  },
  {
   "cell_type": "code",
   "execution_count": null,
   "id": "crude-proceeding",
   "metadata": {},
   "outputs": [],
   "source": [
    "weighted = game.T[0] * 0.6 + game.T[1] * 4  #two arithmetic operations\n",
    "weighted"
   ]
  },
  {
   "cell_type": "code",
   "execution_count": null,
   "id": "incredible-monday",
   "metadata": {},
   "outputs": [],
   "source": [
    "weighted = game @ [0.6, 4]  #matrix product\n",
    "weighted"
   ]
  }
 ],
 "metadata": {
  "kernelspec": {
   "display_name": "Python 3",
   "language": "python",
   "name": "python3"
  },
  "language_info": {
   "codemirror_mode": {
    "name": "ipython",
    "version": 3
   },
   "file_extension": ".py",
   "mimetype": "text/x-python",
   "name": "python",
   "nbconvert_exporter": "python",
   "pygments_lexer": "ipython3",
   "version": "3.7.1"
  }
 },
 "nbformat": 4,
 "nbformat_minor": 5
}
