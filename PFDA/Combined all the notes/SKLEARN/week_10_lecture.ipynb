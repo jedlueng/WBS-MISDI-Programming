{
  "cells": [
    {
      "cell_type": "code",
      "execution_count": 1,
      "id": "impressive-darkness",
      "metadata": {
        "id": "impressive-darkness"
      },
      "outputs": [],
      "source": [
        "import pandas as pd\n",
        "import seaborn as sns\n",
        "import numpy as np"
      ]
    },
    {
      "cell_type": "code",
      "execution_count": null,
      "id": "chief-arrival",
      "metadata": {
        "id": "chief-arrival"
      },
      "outputs": [],
      "source": [
        "df_titan = pd.read_csv('titanic_train.csv')"
      ]
    },
    {
      "cell_type": "code",
      "execution_count": null,
      "id": "human-density",
      "metadata": {
        "id": "human-density"
      },
      "outputs": [],
      "source": [
        "titan_y = df_titan.Survived\n",
        "titan_x = df_titan.drop(columns=['Survived', 'PassengerId', 'Cabin','Ticket'])"
      ]
    },
    {
      "cell_type": "code",
      "execution_count": null,
      "id": "searching-credit",
      "metadata": {
        "colab": {
          "base_uri": "https://localhost:8080/",
          "height": 206
        },
        "id": "searching-credit",
        "outputId": "de77444f-b7ef-4530-d5d6-cddb897a1a66"
      },
      "outputs": [
        {
          "output_type": "execute_result",
          "data": {
            "text/plain": [
              "   Pclass                                               Name     Sex   Age  \\\n",
              "0       3                            Braund, Mr. Owen Harris    male  22.0   \n",
              "1       1  Cumings, Mrs. John Bradley (Florence Briggs Th...  female  38.0   \n",
              "2       3                             Heikkinen, Miss. Laina  female  26.0   \n",
              "3       1       Futrelle, Mrs. Jacques Heath (Lily May Peel)  female  35.0   \n",
              "4       3                           Allen, Mr. William Henry    male  35.0   \n",
              "\n",
              "   SibSp  Parch     Fare Embarked  \n",
              "0      1      0   7.2500        S  \n",
              "1      1      0  71.2833        C  \n",
              "2      0      0   7.9250        S  \n",
              "3      1      0  53.1000        S  \n",
              "4      0      0   8.0500        S  "
            ],
            "text/html": [
              "\n",
              "  <div id=\"df-26724305-b1f8-493f-a85a-b9018ab904c7\">\n",
              "    <div class=\"colab-df-container\">\n",
              "      <div>\n",
              "<style scoped>\n",
              "    .dataframe tbody tr th:only-of-type {\n",
              "        vertical-align: middle;\n",
              "    }\n",
              "\n",
              "    .dataframe tbody tr th {\n",
              "        vertical-align: top;\n",
              "    }\n",
              "\n",
              "    .dataframe thead th {\n",
              "        text-align: right;\n",
              "    }\n",
              "</style>\n",
              "<table border=\"1\" class=\"dataframe\">\n",
              "  <thead>\n",
              "    <tr style=\"text-align: right;\">\n",
              "      <th></th>\n",
              "      <th>Pclass</th>\n",
              "      <th>Name</th>\n",
              "      <th>Sex</th>\n",
              "      <th>Age</th>\n",
              "      <th>SibSp</th>\n",
              "      <th>Parch</th>\n",
              "      <th>Fare</th>\n",
              "      <th>Embarked</th>\n",
              "    </tr>\n",
              "  </thead>\n",
              "  <tbody>\n",
              "    <tr>\n",
              "      <th>0</th>\n",
              "      <td>3</td>\n",
              "      <td>Braund, Mr. Owen Harris</td>\n",
              "      <td>male</td>\n",
              "      <td>22.0</td>\n",
              "      <td>1</td>\n",
              "      <td>0</td>\n",
              "      <td>7.2500</td>\n",
              "      <td>S</td>\n",
              "    </tr>\n",
              "    <tr>\n",
              "      <th>1</th>\n",
              "      <td>1</td>\n",
              "      <td>Cumings, Mrs. John Bradley (Florence Briggs Th...</td>\n",
              "      <td>female</td>\n",
              "      <td>38.0</td>\n",
              "      <td>1</td>\n",
              "      <td>0</td>\n",
              "      <td>71.2833</td>\n",
              "      <td>C</td>\n",
              "    </tr>\n",
              "    <tr>\n",
              "      <th>2</th>\n",
              "      <td>3</td>\n",
              "      <td>Heikkinen, Miss. Laina</td>\n",
              "      <td>female</td>\n",
              "      <td>26.0</td>\n",
              "      <td>0</td>\n",
              "      <td>0</td>\n",
              "      <td>7.9250</td>\n",
              "      <td>S</td>\n",
              "    </tr>\n",
              "    <tr>\n",
              "      <th>3</th>\n",
              "      <td>1</td>\n",
              "      <td>Futrelle, Mrs. Jacques Heath (Lily May Peel)</td>\n",
              "      <td>female</td>\n",
              "      <td>35.0</td>\n",
              "      <td>1</td>\n",
              "      <td>0</td>\n",
              "      <td>53.1000</td>\n",
              "      <td>S</td>\n",
              "    </tr>\n",
              "    <tr>\n",
              "      <th>4</th>\n",
              "      <td>3</td>\n",
              "      <td>Allen, Mr. William Henry</td>\n",
              "      <td>male</td>\n",
              "      <td>35.0</td>\n",
              "      <td>0</td>\n",
              "      <td>0</td>\n",
              "      <td>8.0500</td>\n",
              "      <td>S</td>\n",
              "    </tr>\n",
              "  </tbody>\n",
              "</table>\n",
              "</div>\n",
              "      <button class=\"colab-df-convert\" onclick=\"convertToInteractive('df-26724305-b1f8-493f-a85a-b9018ab904c7')\"\n",
              "              title=\"Convert this dataframe to an interactive table.\"\n",
              "              style=\"display:none;\">\n",
              "        \n",
              "  <svg xmlns=\"http://www.w3.org/2000/svg\" height=\"24px\"viewBox=\"0 0 24 24\"\n",
              "       width=\"24px\">\n",
              "    <path d=\"M0 0h24v24H0V0z\" fill=\"none\"/>\n",
              "    <path d=\"M18.56 5.44l.94 2.06.94-2.06 2.06-.94-2.06-.94-.94-2.06-.94 2.06-2.06.94zm-11 1L8.5 8.5l.94-2.06 2.06-.94-2.06-.94L8.5 2.5l-.94 2.06-2.06.94zm10 10l.94 2.06.94-2.06 2.06-.94-2.06-.94-.94-2.06-.94 2.06-2.06.94z\"/><path d=\"M17.41 7.96l-1.37-1.37c-.4-.4-.92-.59-1.43-.59-.52 0-1.04.2-1.43.59L10.3 9.45l-7.72 7.72c-.78.78-.78 2.05 0 2.83L4 21.41c.39.39.9.59 1.41.59.51 0 1.02-.2 1.41-.59l7.78-7.78 2.81-2.81c.8-.78.8-2.07 0-2.86zM5.41 20L4 18.59l7.72-7.72 1.47 1.35L5.41 20z\"/>\n",
              "  </svg>\n",
              "      </button>\n",
              "      \n",
              "  <style>\n",
              "    .colab-df-container {\n",
              "      display:flex;\n",
              "      flex-wrap:wrap;\n",
              "      gap: 12px;\n",
              "    }\n",
              "\n",
              "    .colab-df-convert {\n",
              "      background-color: #E8F0FE;\n",
              "      border: none;\n",
              "      border-radius: 50%;\n",
              "      cursor: pointer;\n",
              "      display: none;\n",
              "      fill: #1967D2;\n",
              "      height: 32px;\n",
              "      padding: 0 0 0 0;\n",
              "      width: 32px;\n",
              "    }\n",
              "\n",
              "    .colab-df-convert:hover {\n",
              "      background-color: #E2EBFA;\n",
              "      box-shadow: 0px 1px 2px rgba(60, 64, 67, 0.3), 0px 1px 3px 1px rgba(60, 64, 67, 0.15);\n",
              "      fill: #174EA6;\n",
              "    }\n",
              "\n",
              "    [theme=dark] .colab-df-convert {\n",
              "      background-color: #3B4455;\n",
              "      fill: #D2E3FC;\n",
              "    }\n",
              "\n",
              "    [theme=dark] .colab-df-convert:hover {\n",
              "      background-color: #434B5C;\n",
              "      box-shadow: 0px 1px 3px 1px rgba(0, 0, 0, 0.15);\n",
              "      filter: drop-shadow(0px 1px 2px rgba(0, 0, 0, 0.3));\n",
              "      fill: #FFFFFF;\n",
              "    }\n",
              "  </style>\n",
              "\n",
              "      <script>\n",
              "        const buttonEl =\n",
              "          document.querySelector('#df-26724305-b1f8-493f-a85a-b9018ab904c7 button.colab-df-convert');\n",
              "        buttonEl.style.display =\n",
              "          google.colab.kernel.accessAllowed ? 'block' : 'none';\n",
              "\n",
              "        async function convertToInteractive(key) {\n",
              "          const element = document.querySelector('#df-26724305-b1f8-493f-a85a-b9018ab904c7');\n",
              "          const dataTable =\n",
              "            await google.colab.kernel.invokeFunction('convertToInteractive',\n",
              "                                                     [key], {});\n",
              "          if (!dataTable) return;\n",
              "\n",
              "          const docLinkHtml = 'Like what you see? Visit the ' +\n",
              "            '<a target=\"_blank\" href=https://colab.research.google.com/notebooks/data_table.ipynb>data table notebook</a>'\n",
              "            + ' to learn more about interactive tables.';\n",
              "          element.innerHTML = '';\n",
              "          dataTable['output_type'] = 'display_data';\n",
              "          await google.colab.output.renderOutput(dataTable, element);\n",
              "          const docLink = document.createElement('div');\n",
              "          docLink.innerHTML = docLinkHtml;\n",
              "          element.appendChild(docLink);\n",
              "        }\n",
              "      </script>\n",
              "    </div>\n",
              "  </div>\n",
              "  "
            ]
          },
          "metadata": {},
          "execution_count": 14
        }
      ],
      "source": [
        "titan_x.head()"
      ]
    },
    {
      "cell_type": "markdown",
      "id": "right-living",
      "metadata": {
        "id": "right-living"
      },
      "source": [
        "## Train/Test Split"
      ]
    },
    {
      "cell_type": "code",
      "execution_count": null,
      "id": "devoted-cartoon",
      "metadata": {
        "id": "devoted-cartoon"
      },
      "outputs": [],
      "source": [
        "from sklearn.model_selection import train_test_split  \n",
        "X_train, X_test, Y_train, Y_test = train_test_split(\n",
        "    titan_x, titan_y, test_size=0.3, random_state=1)  "
      ]
    },
    {
      "cell_type": "markdown",
      "id": "pursuant-showcase",
      "metadata": {
        "id": "pursuant-showcase"
      },
      "source": [
        "## Feature Engineering: Title Extraction"
      ]
    },
    {
      "cell_type": "code",
      "execution_count": null,
      "id": "gentle-orlando",
      "metadata": {
        "id": "gentle-orlando"
      },
      "outputs": [],
      "source": [
        "def AddTitle(df):\n",
        "    df['noble'] = df['Name'].str.extract(r'\\b(\\w+)\\.')\n",
        "    df.loc[~df['noble'].isin(['Mr','Mrs','Miss','Miss','Ms']),'noble'] = 1\n",
        "    df.loc[df['noble'].isin(['Mr','Mrs','Miss','Miss','Ms']),'noble'] = 0\n",
        "    df = df.drop(columns=['Name'])\n",
        "    return df"
      ]
    },
    {
      "cell_type": "code",
      "execution_count": null,
      "id": "pressing-ending",
      "metadata": {
        "id": "pressing-ending"
      },
      "outputs": [],
      "source": [
        "X_train = AddTitle(X_train)"
      ]
    },
    {
      "cell_type": "code",
      "execution_count": null,
      "id": "approximate-johns",
      "metadata": {
        "colab": {
          "base_uri": "https://localhost:8080/",
          "height": 206
        },
        "id": "approximate-johns",
        "outputId": "ff1d96aa-5e02-45bf-cc2d-b826abd4b3e0"
      },
      "outputs": [
        {
          "output_type": "execute_result",
          "data": {
            "text/plain": [
              "     Pclass     Sex   Age  SibSp  Parch     Fare Embarked noble\n",
              "114       3  female  17.0      0      0  14.4583        C     0\n",
              "874       2  female  28.0      1      0  24.0000        C     0\n",
              "76        3    male   NaN      0      0   7.8958        S     0\n",
              "876       3    male  20.0      0      0   9.8458        S     0\n",
              "674       2    male   NaN      0      0   0.0000        S     0"
            ],
            "text/html": [
              "\n",
              "  <div id=\"df-bb42e804-10b2-44bf-afb0-40f1f496f24f\">\n",
              "    <div class=\"colab-df-container\">\n",
              "      <div>\n",
              "<style scoped>\n",
              "    .dataframe tbody tr th:only-of-type {\n",
              "        vertical-align: middle;\n",
              "    }\n",
              "\n",
              "    .dataframe tbody tr th {\n",
              "        vertical-align: top;\n",
              "    }\n",
              "\n",
              "    .dataframe thead th {\n",
              "        text-align: right;\n",
              "    }\n",
              "</style>\n",
              "<table border=\"1\" class=\"dataframe\">\n",
              "  <thead>\n",
              "    <tr style=\"text-align: right;\">\n",
              "      <th></th>\n",
              "      <th>Pclass</th>\n",
              "      <th>Sex</th>\n",
              "      <th>Age</th>\n",
              "      <th>SibSp</th>\n",
              "      <th>Parch</th>\n",
              "      <th>Fare</th>\n",
              "      <th>Embarked</th>\n",
              "      <th>noble</th>\n",
              "    </tr>\n",
              "  </thead>\n",
              "  <tbody>\n",
              "    <tr>\n",
              "      <th>114</th>\n",
              "      <td>3</td>\n",
              "      <td>female</td>\n",
              "      <td>17.0</td>\n",
              "      <td>0</td>\n",
              "      <td>0</td>\n",
              "      <td>14.4583</td>\n",
              "      <td>C</td>\n",
              "      <td>0</td>\n",
              "    </tr>\n",
              "    <tr>\n",
              "      <th>874</th>\n",
              "      <td>2</td>\n",
              "      <td>female</td>\n",
              "      <td>28.0</td>\n",
              "      <td>1</td>\n",
              "      <td>0</td>\n",
              "      <td>24.0000</td>\n",
              "      <td>C</td>\n",
              "      <td>0</td>\n",
              "    </tr>\n",
              "    <tr>\n",
              "      <th>76</th>\n",
              "      <td>3</td>\n",
              "      <td>male</td>\n",
              "      <td>NaN</td>\n",
              "      <td>0</td>\n",
              "      <td>0</td>\n",
              "      <td>7.8958</td>\n",
              "      <td>S</td>\n",
              "      <td>0</td>\n",
              "    </tr>\n",
              "    <tr>\n",
              "      <th>876</th>\n",
              "      <td>3</td>\n",
              "      <td>male</td>\n",
              "      <td>20.0</td>\n",
              "      <td>0</td>\n",
              "      <td>0</td>\n",
              "      <td>9.8458</td>\n",
              "      <td>S</td>\n",
              "      <td>0</td>\n",
              "    </tr>\n",
              "    <tr>\n",
              "      <th>674</th>\n",
              "      <td>2</td>\n",
              "      <td>male</td>\n",
              "      <td>NaN</td>\n",
              "      <td>0</td>\n",
              "      <td>0</td>\n",
              "      <td>0.0000</td>\n",
              "      <td>S</td>\n",
              "      <td>0</td>\n",
              "    </tr>\n",
              "  </tbody>\n",
              "</table>\n",
              "</div>\n",
              "      <button class=\"colab-df-convert\" onclick=\"convertToInteractive('df-bb42e804-10b2-44bf-afb0-40f1f496f24f')\"\n",
              "              title=\"Convert this dataframe to an interactive table.\"\n",
              "              style=\"display:none;\">\n",
              "        \n",
              "  <svg xmlns=\"http://www.w3.org/2000/svg\" height=\"24px\"viewBox=\"0 0 24 24\"\n",
              "       width=\"24px\">\n",
              "    <path d=\"M0 0h24v24H0V0z\" fill=\"none\"/>\n",
              "    <path d=\"M18.56 5.44l.94 2.06.94-2.06 2.06-.94-2.06-.94-.94-2.06-.94 2.06-2.06.94zm-11 1L8.5 8.5l.94-2.06 2.06-.94-2.06-.94L8.5 2.5l-.94 2.06-2.06.94zm10 10l.94 2.06.94-2.06 2.06-.94-2.06-.94-.94-2.06-.94 2.06-2.06.94z\"/><path d=\"M17.41 7.96l-1.37-1.37c-.4-.4-.92-.59-1.43-.59-.52 0-1.04.2-1.43.59L10.3 9.45l-7.72 7.72c-.78.78-.78 2.05 0 2.83L4 21.41c.39.39.9.59 1.41.59.51 0 1.02-.2 1.41-.59l7.78-7.78 2.81-2.81c.8-.78.8-2.07 0-2.86zM5.41 20L4 18.59l7.72-7.72 1.47 1.35L5.41 20z\"/>\n",
              "  </svg>\n",
              "      </button>\n",
              "      \n",
              "  <style>\n",
              "    .colab-df-container {\n",
              "      display:flex;\n",
              "      flex-wrap:wrap;\n",
              "      gap: 12px;\n",
              "    }\n",
              "\n",
              "    .colab-df-convert {\n",
              "      background-color: #E8F0FE;\n",
              "      border: none;\n",
              "      border-radius: 50%;\n",
              "      cursor: pointer;\n",
              "      display: none;\n",
              "      fill: #1967D2;\n",
              "      height: 32px;\n",
              "      padding: 0 0 0 0;\n",
              "      width: 32px;\n",
              "    }\n",
              "\n",
              "    .colab-df-convert:hover {\n",
              "      background-color: #E2EBFA;\n",
              "      box-shadow: 0px 1px 2px rgba(60, 64, 67, 0.3), 0px 1px 3px 1px rgba(60, 64, 67, 0.15);\n",
              "      fill: #174EA6;\n",
              "    }\n",
              "\n",
              "    [theme=dark] .colab-df-convert {\n",
              "      background-color: #3B4455;\n",
              "      fill: #D2E3FC;\n",
              "    }\n",
              "\n",
              "    [theme=dark] .colab-df-convert:hover {\n",
              "      background-color: #434B5C;\n",
              "      box-shadow: 0px 1px 3px 1px rgba(0, 0, 0, 0.15);\n",
              "      filter: drop-shadow(0px 1px 2px rgba(0, 0, 0, 0.3));\n",
              "      fill: #FFFFFF;\n",
              "    }\n",
              "  </style>\n",
              "\n",
              "      <script>\n",
              "        const buttonEl =\n",
              "          document.querySelector('#df-bb42e804-10b2-44bf-afb0-40f1f496f24f button.colab-df-convert');\n",
              "        buttonEl.style.display =\n",
              "          google.colab.kernel.accessAllowed ? 'block' : 'none';\n",
              "\n",
              "        async function convertToInteractive(key) {\n",
              "          const element = document.querySelector('#df-bb42e804-10b2-44bf-afb0-40f1f496f24f');\n",
              "          const dataTable =\n",
              "            await google.colab.kernel.invokeFunction('convertToInteractive',\n",
              "                                                     [key], {});\n",
              "          if (!dataTable) return;\n",
              "\n",
              "          const docLinkHtml = 'Like what you see? Visit the ' +\n",
              "            '<a target=\"_blank\" href=https://colab.research.google.com/notebooks/data_table.ipynb>data table notebook</a>'\n",
              "            + ' to learn more about interactive tables.';\n",
              "          element.innerHTML = '';\n",
              "          dataTable['output_type'] = 'display_data';\n",
              "          await google.colab.output.renderOutput(dataTable, element);\n",
              "          const docLink = document.createElement('div');\n",
              "          docLink.innerHTML = docLinkHtml;\n",
              "          element.appendChild(docLink);\n",
              "        }\n",
              "      </script>\n",
              "    </div>\n",
              "  </div>\n",
              "  "
            ]
          },
          "metadata": {},
          "execution_count": 128
        }
      ],
      "source": [
        "X_train.head()"
      ]
    },
    {
      "cell_type": "code",
      "source": [
        "def AddFamily(df):\n",
        "    df['Family'] = df['Parch'] + df['SibSp']\n",
        "    df.loc[df['Family']>0, 'Family'] = 1\n",
        "    df.loc[df['Family']==0, 'Family'] = 0\n",
        "    df = df.drop(columns=['SibSp', 'Parch'])\n",
        "    return df\n"
      ],
      "metadata": {
        "id": "Mz6Lk2g6O3Y8"
      },
      "id": "Mz6Lk2g6O3Y8",
      "execution_count": null,
      "outputs": []
    },
    {
      "cell_type": "code",
      "source": [
        "X_train = AddFamily(X_train)\n"
      ],
      "metadata": {
        "id": "LiW6UUbPOVYG"
      },
      "id": "LiW6UUbPOVYG",
      "execution_count": null,
      "outputs": []
    },
    {
      "cell_type": "code",
      "source": [
        "X_train.head()"
      ],
      "metadata": {
        "colab": {
          "base_uri": "https://localhost:8080/",
          "height": 206
        },
        "id": "zQYgHshdbZJR",
        "outputId": "c5c9956d-afe9-464d-b65f-a88d323d8fad"
      },
      "id": "zQYgHshdbZJR",
      "execution_count": null,
      "outputs": [
        {
          "output_type": "execute_result",
          "data": {
            "text/plain": [
              "     Pclass     Sex   Age     Fare Embarked noble  Family\n",
              "114       3  female  17.0  14.4583        C     0       0\n",
              "874       2  female  28.0  24.0000        C     0       1\n",
              "76        3    male   NaN   7.8958        S     0       0\n",
              "876       3    male  20.0   9.8458        S     0       0\n",
              "674       2    male   NaN   0.0000        S     0       0"
            ],
            "text/html": [
              "\n",
              "  <div id=\"df-4b85c352-baa8-4e02-91de-271a89f44bce\">\n",
              "    <div class=\"colab-df-container\">\n",
              "      <div>\n",
              "<style scoped>\n",
              "    .dataframe tbody tr th:only-of-type {\n",
              "        vertical-align: middle;\n",
              "    }\n",
              "\n",
              "    .dataframe tbody tr th {\n",
              "        vertical-align: top;\n",
              "    }\n",
              "\n",
              "    .dataframe thead th {\n",
              "        text-align: right;\n",
              "    }\n",
              "</style>\n",
              "<table border=\"1\" class=\"dataframe\">\n",
              "  <thead>\n",
              "    <tr style=\"text-align: right;\">\n",
              "      <th></th>\n",
              "      <th>Pclass</th>\n",
              "      <th>Sex</th>\n",
              "      <th>Age</th>\n",
              "      <th>Fare</th>\n",
              "      <th>Embarked</th>\n",
              "      <th>noble</th>\n",
              "      <th>Family</th>\n",
              "    </tr>\n",
              "  </thead>\n",
              "  <tbody>\n",
              "    <tr>\n",
              "      <th>114</th>\n",
              "      <td>3</td>\n",
              "      <td>female</td>\n",
              "      <td>17.0</td>\n",
              "      <td>14.4583</td>\n",
              "      <td>C</td>\n",
              "      <td>0</td>\n",
              "      <td>0</td>\n",
              "    </tr>\n",
              "    <tr>\n",
              "      <th>874</th>\n",
              "      <td>2</td>\n",
              "      <td>female</td>\n",
              "      <td>28.0</td>\n",
              "      <td>24.0000</td>\n",
              "      <td>C</td>\n",
              "      <td>0</td>\n",
              "      <td>1</td>\n",
              "    </tr>\n",
              "    <tr>\n",
              "      <th>76</th>\n",
              "      <td>3</td>\n",
              "      <td>male</td>\n",
              "      <td>NaN</td>\n",
              "      <td>7.8958</td>\n",
              "      <td>S</td>\n",
              "      <td>0</td>\n",
              "      <td>0</td>\n",
              "    </tr>\n",
              "    <tr>\n",
              "      <th>876</th>\n",
              "      <td>3</td>\n",
              "      <td>male</td>\n",
              "      <td>20.0</td>\n",
              "      <td>9.8458</td>\n",
              "      <td>S</td>\n",
              "      <td>0</td>\n",
              "      <td>0</td>\n",
              "    </tr>\n",
              "    <tr>\n",
              "      <th>674</th>\n",
              "      <td>2</td>\n",
              "      <td>male</td>\n",
              "      <td>NaN</td>\n",
              "      <td>0.0000</td>\n",
              "      <td>S</td>\n",
              "      <td>0</td>\n",
              "      <td>0</td>\n",
              "    </tr>\n",
              "  </tbody>\n",
              "</table>\n",
              "</div>\n",
              "      <button class=\"colab-df-convert\" onclick=\"convertToInteractive('df-4b85c352-baa8-4e02-91de-271a89f44bce')\"\n",
              "              title=\"Convert this dataframe to an interactive table.\"\n",
              "              style=\"display:none;\">\n",
              "        \n",
              "  <svg xmlns=\"http://www.w3.org/2000/svg\" height=\"24px\"viewBox=\"0 0 24 24\"\n",
              "       width=\"24px\">\n",
              "    <path d=\"M0 0h24v24H0V0z\" fill=\"none\"/>\n",
              "    <path d=\"M18.56 5.44l.94 2.06.94-2.06 2.06-.94-2.06-.94-.94-2.06-.94 2.06-2.06.94zm-11 1L8.5 8.5l.94-2.06 2.06-.94-2.06-.94L8.5 2.5l-.94 2.06-2.06.94zm10 10l.94 2.06.94-2.06 2.06-.94-2.06-.94-.94-2.06-.94 2.06-2.06.94z\"/><path d=\"M17.41 7.96l-1.37-1.37c-.4-.4-.92-.59-1.43-.59-.52 0-1.04.2-1.43.59L10.3 9.45l-7.72 7.72c-.78.78-.78 2.05 0 2.83L4 21.41c.39.39.9.59 1.41.59.51 0 1.02-.2 1.41-.59l7.78-7.78 2.81-2.81c.8-.78.8-2.07 0-2.86zM5.41 20L4 18.59l7.72-7.72 1.47 1.35L5.41 20z\"/>\n",
              "  </svg>\n",
              "      </button>\n",
              "      \n",
              "  <style>\n",
              "    .colab-df-container {\n",
              "      display:flex;\n",
              "      flex-wrap:wrap;\n",
              "      gap: 12px;\n",
              "    }\n",
              "\n",
              "    .colab-df-convert {\n",
              "      background-color: #E8F0FE;\n",
              "      border: none;\n",
              "      border-radius: 50%;\n",
              "      cursor: pointer;\n",
              "      display: none;\n",
              "      fill: #1967D2;\n",
              "      height: 32px;\n",
              "      padding: 0 0 0 0;\n",
              "      width: 32px;\n",
              "    }\n",
              "\n",
              "    .colab-df-convert:hover {\n",
              "      background-color: #E2EBFA;\n",
              "      box-shadow: 0px 1px 2px rgba(60, 64, 67, 0.3), 0px 1px 3px 1px rgba(60, 64, 67, 0.15);\n",
              "      fill: #174EA6;\n",
              "    }\n",
              "\n",
              "    [theme=dark] .colab-df-convert {\n",
              "      background-color: #3B4455;\n",
              "      fill: #D2E3FC;\n",
              "    }\n",
              "\n",
              "    [theme=dark] .colab-df-convert:hover {\n",
              "      background-color: #434B5C;\n",
              "      box-shadow: 0px 1px 3px 1px rgba(0, 0, 0, 0.15);\n",
              "      filter: drop-shadow(0px 1px 2px rgba(0, 0, 0, 0.3));\n",
              "      fill: #FFFFFF;\n",
              "    }\n",
              "  </style>\n",
              "\n",
              "      <script>\n",
              "        const buttonEl =\n",
              "          document.querySelector('#df-4b85c352-baa8-4e02-91de-271a89f44bce button.colab-df-convert');\n",
              "        buttonEl.style.display =\n",
              "          google.colab.kernel.accessAllowed ? 'block' : 'none';\n",
              "\n",
              "        async function convertToInteractive(key) {\n",
              "          const element = document.querySelector('#df-4b85c352-baa8-4e02-91de-271a89f44bce');\n",
              "          const dataTable =\n",
              "            await google.colab.kernel.invokeFunction('convertToInteractive',\n",
              "                                                     [key], {});\n",
              "          if (!dataTable) return;\n",
              "\n",
              "          const docLinkHtml = 'Like what you see? Visit the ' +\n",
              "            '<a target=\"_blank\" href=https://colab.research.google.com/notebooks/data_table.ipynb>data table notebook</a>'\n",
              "            + ' to learn more about interactive tables.';\n",
              "          element.innerHTML = '';\n",
              "          dataTable['output_type'] = 'display_data';\n",
              "          await google.colab.output.renderOutput(dataTable, element);\n",
              "          const docLink = document.createElement('div');\n",
              "          docLink.innerHTML = docLinkHtml;\n",
              "          element.appendChild(docLink);\n",
              "        }\n",
              "      </script>\n",
              "    </div>\n",
              "  </div>\n",
              "  "
            ]
          },
          "metadata": {},
          "execution_count": 132
        }
      ]
    },
    {
      "cell_type": "markdown",
      "id": "exempt-shepherd",
      "metadata": {
        "id": "exempt-shepherd"
      },
      "source": [
        "## ColumnTransformer"
      ]
    },
    {
      "cell_type": "markdown",
      "id": "regular-arcade",
      "metadata": {
        "id": "regular-arcade"
      },
      "source": [
        "### ColumnTransformer for Imputation"
      ]
    },
    {
      "cell_type": "code",
      "execution_count": null,
      "id": "straight-sensitivity",
      "metadata": {
        "id": "straight-sensitivity"
      },
      "outputs": [],
      "source": [
        "from sklearn.compose import ColumnTransformer\n",
        "from sklearn.impute import SimpleImputer"
      ]
    },
    {
      "cell_type": "code",
      "execution_count": null,
      "id": "moral-million",
      "metadata": {
        "id": "moral-million"
      },
      "outputs": [],
      "source": [
        "imp1 = SimpleImputer(strategy='mean')\n",
        "imp2 = SimpleImputer(strategy='most_frequent')\n",
        "tf = ColumnTransformer([('imp_age', imp1, [2,3]),('imp_embark', imp2, [4])], remainder='passthrough')\n",
        "tf = tf.fit(X_train)"
      ]
    },
    {
      "cell_type": "code",
      "execution_count": null,
      "id": "registered-throat",
      "metadata": {
        "id": "registered-throat"
      },
      "outputs": [],
      "source": [
        "X_train = tf.transform(X_train)"
      ]
    },
    {
      "cell_type": "code",
      "execution_count": null,
      "id": "broad-reflection",
      "metadata": {
        "colab": {
          "base_uri": "https://localhost:8080/"
        },
        "id": "broad-reflection",
        "outputId": "6b83d34e-0cdb-4bc8-d4c2-15b743f2a26f"
      },
      "outputs": [
        {
          "output_type": "execute_result",
          "data": {
            "text/plain": [
              "array([17.0, 14.4583, 'C', 3, 'female', 0, 0], dtype=object)"
            ]
          },
          "metadata": {},
          "execution_count": 135
        }
      ],
      "source": [
        "X_train[0]"
      ]
    },
    {
      "cell_type": "markdown",
      "id": "turned-bedroom",
      "metadata": {
        "id": "turned-bedroom"
      },
      "source": [
        "### ColumnTransformer for Encoding"
      ]
    },
    {
      "cell_type": "code",
      "execution_count": null,
      "id": "indonesian-launch",
      "metadata": {
        "id": "indonesian-launch"
      },
      "outputs": [],
      "source": [
        "from sklearn.preprocessing import OneHotEncoder\n",
        "enc = OneHotEncoder(sparse=False)"
      ]
    },
    {
      "cell_type": "code",
      "execution_count": null,
      "id": "environmental-eligibility",
      "metadata": {
        "id": "environmental-eligibility"
      },
      "outputs": [],
      "source": [
        "tf1 = ColumnTransformer([('enca', enc, [2,3,4])], remainder='passthrough')\n",
        "tf1 = tf1.fit(X_train)"
      ]
    },
    {
      "cell_type": "code",
      "execution_count": null,
      "id": "turned-importance",
      "metadata": {
        "colab": {
          "base_uri": "https://localhost:8080/"
        },
        "id": "turned-importance",
        "outputId": "ba3e91b7-995e-490c-c6f0-d97dfe010762"
      },
      "outputs": [
        {
          "output_type": "execute_result",
          "data": {
            "text/plain": [
              "array([1.0, 0.0, 0.0, 0.0, 0.0, 1.0, 1.0, 0.0, 17.0, 14.4583, 0, 0],\n",
              "      dtype=object)"
            ]
          },
          "metadata": {},
          "execution_count": 138
        }
      ],
      "source": [
        "X_train = tf1.transform(X_train)\n",
        "X_train[0]"
      ]
    },
    {
      "cell_type": "markdown",
      "id": "illegal-andrews",
      "metadata": {
        "id": "illegal-andrews"
      },
      "source": [
        "### ColumnTransformer for Scaling\n"
      ]
    },
    {
      "cell_type": "code",
      "execution_count": null,
      "id": "seventh-centre",
      "metadata": {
        "id": "seventh-centre"
      },
      "outputs": [],
      "source": [
        "from sklearn.preprocessing import MinMaxScaler\n",
        "scaler = MinMaxScaler()"
      ]
    },
    {
      "cell_type": "code",
      "execution_count": null,
      "id": "front-actor",
      "metadata": {
        "id": "front-actor"
      },
      "outputs": [],
      "source": [
        "tf2 = ColumnTransformer([('scaler', scaler, [8,9])], remainder='passthrough')\n",
        "tf2 = tf2.fit(X_train)"
      ]
    },
    {
      "cell_type": "code",
      "execution_count": null,
      "id": "miniature-thanksgiving",
      "metadata": {
        "colab": {
          "base_uri": "https://localhost:8080/"
        },
        "id": "miniature-thanksgiving",
        "outputId": "c7ffbca4-aad1-40e0-fdf0-56de0ca16696"
      },
      "outputs": [
        {
          "output_type": "execute_result",
          "data": {
            "text/plain": [
              "array([0.20584898525148115, 0.028220722145058292, 1.0, 0.0, 0.0, 0.0, 0.0,\n",
              "       1.0, 1.0, 0.0, 0, 0], dtype=object)"
            ]
          },
          "metadata": {},
          "execution_count": 141
        }
      ],
      "source": [
        "X_train = tf2.transform(X_train)\n",
        "X_train[0]"
      ]
    },
    {
      "cell_type": "markdown",
      "id": "careful-difference",
      "metadata": {
        "id": "careful-difference"
      },
      "source": [
        "## Dimensionality Reduction"
      ]
    },
    {
      "cell_type": "code",
      "execution_count": null,
      "id": "persistent-victor",
      "metadata": {
        "id": "persistent-victor"
      },
      "outputs": [],
      "source": [
        "from sklearn.decomposition import PCA"
      ]
    },
    {
      "cell_type": "code",
      "execution_count": null,
      "id": "recorded-opportunity",
      "metadata": {
        "id": "recorded-opportunity"
      },
      "outputs": [],
      "source": [
        "pca = PCA(n_components=8)"
      ]
    },
    {
      "cell_type": "code",
      "execution_count": null,
      "id": "stuffed-drink",
      "metadata": {
        "id": "stuffed-drink"
      },
      "outputs": [],
      "source": [
        "pca = pca.fit(X_train)"
      ]
    },
    {
      "cell_type": "code",
      "source": [
        "pca.explained_variance_ratio_.sum()"
      ],
      "metadata": {
        "id": "GuxORgu-Q_PO"
      },
      "id": "GuxORgu-Q_PO",
      "execution_count": null,
      "outputs": []
    },
    {
      "cell_type": "code",
      "execution_count": null,
      "id": "endless-winning",
      "metadata": {
        "colab": {
          "base_uri": "https://localhost:8080/"
        },
        "id": "endless-winning",
        "outputId": "61c832a2-9e41-4735-8bc7-ff179cdbeb33"
      },
      "outputs": [
        {
          "output_type": "execute_result",
          "data": {
            "text/plain": [
              "array([ 0.63768284, -0.57559412,  1.02450343,  0.598545  ,  0.06882799,\n",
              "       -0.55713137,  0.26674571, -0.08707042])"
            ]
          },
          "metadata": {},
          "execution_count": 77
        }
      ],
      "source": [
        "X_train = pca.transform(X_train)\n",
        "X_train[0]"
      ]
    },
    {
      "cell_type": "markdown",
      "id": "wanted-trauma",
      "metadata": {
        "id": "wanted-trauma"
      },
      "source": [
        "## Build Basic Trees"
      ]
    },
    {
      "cell_type": "markdown",
      "id": "divine-gauge",
      "metadata": {
        "id": "divine-gauge"
      },
      "source": [
        "### Decision Tree"
      ]
    },
    {
      "cell_type": "code",
      "execution_count": null,
      "id": "hearing-fraction",
      "metadata": {
        "id": "hearing-fraction"
      },
      "outputs": [],
      "source": [
        "from sklearn.tree import DecisionTreeClassifier \n",
        "clf_dt = DecisionTreeClassifier()"
      ]
    },
    {
      "cell_type": "markdown",
      "id": "applicable-operator",
      "metadata": {
        "id": "applicable-operator"
      },
      "source": [
        "### Random Forest"
      ]
    },
    {
      "cell_type": "code",
      "execution_count": null,
      "id": "stable-right",
      "metadata": {
        "id": "stable-right"
      },
      "outputs": [],
      "source": [
        "from sklearn.ensemble import RandomForestClassifier\n",
        "clf_rf = RandomForestClassifier()"
      ]
    },
    {
      "cell_type": "markdown",
      "id": "aquatic-arlington",
      "metadata": {
        "id": "aquatic-arlington"
      },
      "source": [
        "### AdaBoost Tree"
      ]
    },
    {
      "cell_type": "code",
      "execution_count": null,
      "id": "assured-bracket",
      "metadata": {
        "id": "assured-bracket"
      },
      "outputs": [],
      "source": [
        "from sklearn.ensemble import AdaBoostClassifier\n",
        "clf_ada = AdaBoostClassifier()"
      ]
    },
    {
      "cell_type": "markdown",
      "id": "stretch-batch",
      "metadata": {
        "id": "stretch-batch"
      },
      "source": [
        "## Making Pipeline"
      ]
    },
    {
      "cell_type": "code",
      "execution_count": 2,
      "id": "featured-powell",
      "metadata": {
        "id": "featured-powell"
      },
      "outputs": [],
      "source": [
        "df_titan = pd.read_csv('titanic_train.csv')\n",
        "titan_y = df_titan.Survived\n",
        "titan_x = df_titan.drop(columns=['Survived', 'PassengerId','Ticket','Cabin'])"
      ]
    },
    {
      "cell_type": "code",
      "execution_count": 3,
      "id": "forty-reducing",
      "metadata": {
        "id": "forty-reducing"
      },
      "outputs": [],
      "source": [
        "from sklearn.model_selection import train_test_split  \n",
        "X_train, X_test, Y_train, Y_test = train_test_split(\n",
        "    titan_x, titan_y, test_size=0.3, random_state=1) "
      ]
    },
    {
      "cell_type": "code",
      "execution_count": 4,
      "id": "aging-sodium",
      "metadata": {
        "id": "aging-sodium"
      },
      "outputs": [],
      "source": [
        "def AddFeature(df):\n",
        "    df['noble'] = df['Name'].str.extract(r'\\b(\\w+)\\.')\n",
        "    df.loc[~df['noble'].isin(['Mr','Mrs','Miss','Miss','Ms']),'noble'] = 1\n",
        "    df.loc[df['noble'].isin(['Mr','Mrs','Miss','Miss','Ms']),'noble'] = 0\n",
        "    df = df.drop(columns=['Name'])\n",
        "    df['Family'] = df['Parch'] + df['SibSp']\n",
        "    df.loc[df['Family']>0, 'Family'] = 1\n",
        "    df.loc[df['Family']==0, 'Family'] = 0\n",
        "    df = df.drop(columns=['SibSp', 'Parch'])\n",
        "    return df"
      ]
    },
    {
      "cell_type": "code",
      "execution_count": 5,
      "id": "variable-castle",
      "metadata": {
        "id": "variable-castle"
      },
      "outputs": [],
      "source": [
        "from sklearn.compose import ColumnTransformer\n",
        "from sklearn.impute import SimpleImputer\n",
        "from sklearn.preprocessing import OneHotEncoder\n",
        "from sklearn.preprocessing import MinMaxScaler\n",
        "from sklearn.decomposition import PCA\n",
        "from sklearn.preprocessing import FunctionTransformer\n",
        "imp1 = SimpleImputer(strategy='mean')\n",
        "imp2 = SimpleImputer(strategy='most_frequent')\n",
        "enc = OneHotEncoder(sparse=False)\n",
        "scaler = MinMaxScaler()\n",
        "af = FunctionTransformer(AddFeature)\n",
        "tf = ColumnTransformer([('impa', imp1, [2,3]),('impb', imp2, [4])], remainder='passthrough')\n",
        "tf1 = ColumnTransformer([('enca', enc, [2,3,4])], remainder='passthrough')\n",
        "tf2 = ColumnTransformer([('scalera', scaler, [8,9])], remainder='passthrough')\n",
        "pca = PCA(n_components=8)"
      ]
    },
    {
      "cell_type": "code",
      "execution_count": 6,
      "id": "balanced-transformation",
      "metadata": {
        "id": "balanced-transformation"
      },
      "outputs": [],
      "source": [
        "from sklearn.tree import DecisionTreeClassifier \n",
        "from sklearn.ensemble import RandomForestClassifier\n",
        "from sklearn.ensemble import AdaBoostClassifier\n",
        "clf_dt = DecisionTreeClassifier()\n",
        "clf_rf = RandomForestClassifier(max_depth=5, n_estimators=200)\n",
        "clf_ada = AdaBoostClassifier(learning_rate=0.1, n_estimators=100)"
      ]
    },
    {
      "cell_type": "code",
      "execution_count": 7,
      "id": "excessive-sunset",
      "metadata": {
        "id": "excessive-sunset"
      },
      "outputs": [],
      "source": [
        "from sklearn.pipeline import Pipeline\n",
        "steps = [('add', af),\n",
        "         ('tf', tf),\n",
        "         ('tf1', tf1),\n",
        "         ('tf2', tf2), \n",
        "         ('pca', pca),        \n",
        "         ('c1f', clf_rf)]\n",
        "pipe = Pipeline(steps)"
      ]
    },
    {
      "cell_type": "code",
      "execution_count": 8,
      "id": "beautiful-rehabilitation",
      "metadata": {
        "id": "beautiful-rehabilitation"
      },
      "outputs": [],
      "source": [
        "pipe = pipe.fit(X_train, Y_train)"
      ]
    },
    {
      "cell_type": "code",
      "execution_count": 9,
      "id": "optional-casino",
      "metadata": {
        "colab": {
          "base_uri": "https://localhost:8080/"
        },
        "id": "optional-casino",
        "outputId": "f5a33851-bf7a-4e2d-c20e-e5a7e93c90f0"
      },
      "outputs": [
        {
          "output_type": "execute_result",
          "data": {
            "text/plain": [
              "0.7835820895522388"
            ]
          },
          "metadata": {},
          "execution_count": 9
        }
      ],
      "source": [
        "pipe.score(X_test, Y_test)"
      ]
    },
    {
      "cell_type": "markdown",
      "source": [
        "# Evaluate the Model"
      ],
      "metadata": {
        "id": "7FJtFyUhTJ1m"
      },
      "id": "7FJtFyUhTJ1m"
    },
    {
      "cell_type": "code",
      "source": [
        "Y_predict = pipe.predict(X_test)"
      ],
      "metadata": {
        "id": "vgiaZJB0TNFG"
      },
      "id": "vgiaZJB0TNFG",
      "execution_count": 10,
      "outputs": []
    },
    {
      "cell_type": "code",
      "source": [
        "from sklearn.metrics import confusion_matrix\n",
        "confusion_matrix(Y_test, Y_predict)"
      ],
      "metadata": {
        "colab": {
          "base_uri": "https://localhost:8080/"
        },
        "id": "QmLNLd50Tg8c",
        "outputId": "252e6114-0299-4cb5-b4de-325479ac5e3c"
      },
      "id": "QmLNLd50Tg8c",
      "execution_count": 11,
      "outputs": [
        {
          "output_type": "execute_result",
          "data": {
            "text/plain": [
              "array([[140,  13],\n",
              "       [ 45,  70]])"
            ]
          },
          "metadata": {},
          "execution_count": 11
        }
      ]
    },
    {
      "cell_type": "code",
      "source": [
        "from sklearn.metrics import recall_score\n",
        "recall_score(Y_test, Y_predict)"
      ],
      "metadata": {
        "colab": {
          "base_uri": "https://localhost:8080/"
        },
        "id": "wmp0l_qDTgto",
        "outputId": "c0444441-a4e5-4315-b0bf-8dff0f816e23"
      },
      "id": "wmp0l_qDTgto",
      "execution_count": 12,
      "outputs": [
        {
          "output_type": "execute_result",
          "data": {
            "text/plain": [
              "0.6086956521739131"
            ]
          },
          "metadata": {},
          "execution_count": 12
        }
      ]
    },
    {
      "cell_type": "code",
      "source": [
        "from sklearn.metrics import precision_score\n",
        "precision_score(Y_test, Y_predict)"
      ],
      "metadata": {
        "colab": {
          "base_uri": "https://localhost:8080/"
        },
        "id": "L68kw_1QTgq_",
        "outputId": "96bda452-61c8-4ad1-cf2e-d4aba452f5d4"
      },
      "id": "L68kw_1QTgq_",
      "execution_count": 13,
      "outputs": [
        {
          "output_type": "execute_result",
          "data": {
            "text/plain": [
              "0.8433734939759037"
            ]
          },
          "metadata": {},
          "execution_count": 13
        }
      ]
    },
    {
      "cell_type": "code",
      "source": [
        "from sklearn.metrics import f1_score\n",
        "f1_score(Y_test, Y_predict)"
      ],
      "metadata": {
        "colab": {
          "base_uri": "https://localhost:8080/"
        },
        "id": "XBTZdsW8Tggh",
        "outputId": "0fc1474c-078b-4b43-d5e5-6ff39d1c1200"
      },
      "id": "XBTZdsW8Tggh",
      "execution_count": 14,
      "outputs": [
        {
          "output_type": "execute_result",
          "data": {
            "text/plain": [
              "0.7070707070707071"
            ]
          },
          "metadata": {},
          "execution_count": 14
        }
      ]
    },
    {
      "cell_type": "code",
      "source": [
        "prob = pipe.predict_proba(X_test)"
      ],
      "metadata": {
        "id": "iPgZF7WMllGx"
      },
      "id": "iPgZF7WMllGx",
      "execution_count": null,
      "outputs": []
    },
    {
      "cell_type": "code",
      "source": [
        "from sklearn.metrics import roc_curve, roc_auc_score, RocCurveDisplay\n",
        "fpr, tpr, thresholds = roc_curve(Y_test, prob[:,1])"
      ],
      "metadata": {
        "id": "iArMIY9Gkb0E"
      },
      "id": "iArMIY9Gkb0E",
      "execution_count": 20,
      "outputs": []
    },
    {
      "cell_type": "code",
      "source": [
        "figure = RocCurveDisplay(fpr=fpr, tpr=tpr)"
      ],
      "metadata": {
        "id": "60Qo-e_Wmdfa"
      },
      "id": "60Qo-e_Wmdfa",
      "execution_count": 21,
      "outputs": []
    },
    {
      "cell_type": "code",
      "source": [
        "figure.plot()"
      ],
      "metadata": {
        "id": "Ezw02BgFm733"
      },
      "id": "Ezw02BgFm733",
      "execution_count": null,
      "outputs": []
    },
    {
      "cell_type": "markdown",
      "source": [
        "# Cross Validation"
      ],
      "metadata": {
        "id": "QrFIFZJpUrdW"
      },
      "id": "QrFIFZJpUrdW"
    },
    {
      "cell_type": "markdown",
      "source": [
        "## K-Fold"
      ],
      "metadata": {
        "id": "GHZmRtLjUv06"
      },
      "id": "GHZmRtLjUv06"
    },
    {
      "cell_type": "code",
      "source": [
        "from sklearn.model_selection import KFold, StratifiedKFold, cross_val_score, cross_val_predict"
      ],
      "metadata": {
        "id": "eGsqjhp-Uta2"
      },
      "id": "eGsqjhp-Uta2",
      "execution_count": null,
      "outputs": []
    },
    {
      "cell_type": "code",
      "source": [
        "kf = KFold()\n",
        "cross_val_score(pipe, titan_x, titan_y, cv=kf )"
      ],
      "metadata": {
        "colab": {
          "base_uri": "https://localhost:8080/"
        },
        "id": "YfuEzS4nVXCF",
        "outputId": "a45549c4-3d41-4dce-b735-2b87bdbef4b5"
      },
      "id": "YfuEzS4nVXCF",
      "execution_count": null,
      "outputs": [
        {
          "output_type": "execute_result",
          "data": {
            "text/plain": [
              "array([0.83798883, 0.80337079, 0.82022472, 0.78651685, 0.83146067])"
            ]
          },
          "metadata": {},
          "execution_count": 148
        }
      ]
    },
    {
      "cell_type": "code",
      "source": [
        "skf = StratifiedKFold()\n",
        "cross_val_score(pipe, titan_x, titan_y, cv=skf )"
      ],
      "metadata": {
        "colab": {
          "base_uri": "https://localhost:8080/"
        },
        "id": "U4B9CCaqXetq",
        "outputId": "695b4753-c0d3-4c27-d950-1824416aa5d6"
      },
      "id": "U4B9CCaqXetq",
      "execution_count": null,
      "outputs": [
        {
          "output_type": "execute_result",
          "data": {
            "text/plain": [
              "array([0.82122905, 0.81460674, 0.82022472, 0.79775281, 0.83707865])"
            ]
          },
          "metadata": {},
          "execution_count": 149
        }
      ]
    },
    {
      "cell_type": "markdown",
      "id": "familiar-typing",
      "metadata": {
        "id": "familiar-typing"
      },
      "source": [
        "## GridSearch with Pipeline"
      ]
    },
    {
      "cell_type": "code",
      "execution_count": null,
      "id": "applicable-banks",
      "metadata": {
        "id": "applicable-banks"
      },
      "outputs": [],
      "source": [
        "from sklearn.model_selection import GridSearchCV"
      ]
    },
    {
      "cell_type": "code",
      "execution_count": null,
      "id": "consolidated-berlin",
      "metadata": {
        "id": "consolidated-berlin"
      },
      "outputs": [],
      "source": [
        "param_grid = {\n",
        "    'tf__impa__strategy': ['mean','median'],    \n",
        "    'c1f__n_estimators': [200,300],\n",
        "    'c1f__criterion': ['gini','entropy'],\n",
        "    'c1f__max_depth': [4,5,6],\n",
        "    'c1f__max_features': ['auto','log2']\n",
        "}"
      ]
    },
    {
      "cell_type": "code",
      "execution_count": null,
      "id": "neutral-malpractice",
      "metadata": {
        "id": "neutral-malpractice"
      },
      "outputs": [],
      "source": [
        "pipe.get_params().keys()"
      ]
    },
    {
      "cell_type": "code",
      "execution_count": null,
      "id": "continent-timber",
      "metadata": {
        "id": "continent-timber"
      },
      "outputs": [],
      "source": [
        "search = GridSearchCV(pipe, param_grid, n_jobs=-1, verbose=12)"
      ]
    },
    {
      "cell_type": "markdown",
      "id": "considered-marker",
      "metadata": {
        "id": "considered-marker"
      },
      "source": [
        "#no need to split train/test"
      ]
    },
    {
      "cell_type": "code",
      "execution_count": null,
      "id": "lonely-array",
      "metadata": {
        "colab": {
          "base_uri": "https://localhost:8080/"
        },
        "id": "lonely-array",
        "outputId": "a6967fe8-d12b-4f66-a7e9-71166c0c97f9"
      },
      "outputs": [
        {
          "output_type": "stream",
          "name": "stdout",
          "text": [
            "Fitting 5 folds for each of 48 candidates, totalling 240 fits\n"
          ]
        }
      ],
      "source": [
        "search = search.fit(titan_x, titan_y)"
      ]
    },
    {
      "cell_type": "code",
      "execution_count": null,
      "id": "ahead-london",
      "metadata": {
        "id": "ahead-london",
        "colab": {
          "base_uri": "https://localhost:8080/"
        },
        "outputId": "77f1451d-65b1-41dc-e083-e9041ab4a1cb"
      },
      "outputs": [
        {
          "output_type": "execute_result",
          "data": {
            "text/plain": [
              "0.8204255853367648"
            ]
          },
          "metadata": {},
          "execution_count": 155
        }
      ],
      "source": [
        "search.best_score_"
      ]
    },
    {
      "cell_type": "code",
      "execution_count": null,
      "id": "varied-aviation",
      "metadata": {
        "id": "varied-aviation",
        "colab": {
          "base_uri": "https://localhost:8080/"
        },
        "outputId": "6fa3c3e6-4692-4e13-e682-d9295e5b8982"
      },
      "outputs": [
        {
          "output_type": "execute_result",
          "data": {
            "text/plain": [
              "{'c1f__criterion': 'entropy',\n",
              " 'c1f__max_depth': 5,\n",
              " 'c1f__max_features': 'auto',\n",
              " 'c1f__n_estimators': 300,\n",
              " 'tf__impa__strategy': 'median'}"
            ]
          },
          "metadata": {},
          "execution_count": 156
        }
      ],
      "source": [
        "search.best_params_"
      ]
    },
    {
      "cell_type": "code",
      "execution_count": null,
      "id": "declared-maximum",
      "metadata": {
        "id": "declared-maximum"
      },
      "outputs": [],
      "source": [
        "titan_test = pd.read_csv('titanic_test.csv')\n",
        "titan_test = titan_test.drop(columns=['PassengerId','Ticket','Cabin'])"
      ]
    },
    {
      "cell_type": "code",
      "execution_count": null,
      "id": "taken-dialogue",
      "metadata": {
        "colab": {
          "base_uri": "https://localhost:8080/"
        },
        "id": "taken-dialogue",
        "outputId": "93206e97-eae6-4d69-eceb-538c621f9847"
      },
      "outputs": [
        {
          "output_type": "execute_result",
          "data": {
            "text/plain": [
              "Pclass       0\n",
              "Name         0\n",
              "Sex          0\n",
              "Age         86\n",
              "SibSp        0\n",
              "Parch        0\n",
              "Fare         1\n",
              "Embarked     0\n",
              "dtype: int64"
            ]
          },
          "metadata": {},
          "execution_count": 158
        }
      ],
      "source": [
        "titan_test.isnull().sum()"
      ]
    },
    {
      "cell_type": "code",
      "execution_count": null,
      "id": "contemporary-baltimore",
      "metadata": {
        "id": "contemporary-baltimore"
      },
      "outputs": [],
      "source": [
        "pred = search.predict(titan_test)"
      ]
    },
    {
      "cell_type": "code",
      "execution_count": null,
      "id": "mineral-enlargement",
      "metadata": {
        "id": "mineral-enlargement"
      },
      "outputs": [],
      "source": [
        "np.savetxt(\"test.csv\", pred, delimiter=\",\")"
      ]
    }
  ],
  "metadata": {
    "colab": {
      "name": "week_10_lecture.ipynb",
      "provenance": []
    },
    "kernelspec": {
      "display_name": "Python 3",
      "language": "python",
      "name": "python3"
    },
    "language_info": {
      "codemirror_mode": {
        "name": "ipython",
        "version": 3
      },
      "file_extension": ".py",
      "mimetype": "text/x-python",
      "name": "python",
      "nbconvert_exporter": "python",
      "pygments_lexer": "ipython3",
      "version": "3.7.1"
    }
  },
  "nbformat": 4,
  "nbformat_minor": 5
}