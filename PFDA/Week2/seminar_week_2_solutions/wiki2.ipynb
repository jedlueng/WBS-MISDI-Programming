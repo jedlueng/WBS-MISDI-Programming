{
 "cells": [
  {
   "cell_type": "code",
   "execution_count": 3,
   "metadata": {},
   "outputs": [],
   "source": [
    "#JedLueng 26 January 2021 \n",
    "#Scraping wikipedia using payload\n",
    "\n",
    "import requests\n",
    "import json\n",
    "import csv\n",
    "\n",
    "\n",
    "url = \"https://en.wikipedia.org/w/api.php\"\n",
    "titles = [\n",
    "    'University of Warwick',\n",
    "    'Coventry University',\n",
    "    'University of Birmingham'\n",
    "]\n",
    "\n",
    "#Using payload \n",
    "payload = {\n",
    "    'action': 'query',\n",
    "    'format': 'json',\n",
    "    'prop': 'revisions',\n",
    "    'formatversion': 2,\n",
    "    'rvprop': 'timestamp|user|comment',\n",
    "    'rvlimit': 5\n",
    "}\n"
   ]
  },
  {
   "cell_type": "markdown",
   "metadata": {},
   "source": [
    "https://www.mediawiki.org/wiki/API:Revisions"
   ]
  },
  {
   "cell_type": "code",
   "execution_count": 10,
   "metadata": {},
   "outputs": [],
   "source": [
    "for title in titles:\n",
    "    #    result = requests.get(url.format(title))\n",
    "    payload['titles'] = title\n",
    "    result = requests.get(url, params=payload)\n",
    "#    print(result.text)\n",
    "#Load result into json\n",
    "    result_dict = json.loads(result.text)\n",
    "#    print(result_dict['query']['pages'][0]['revisions'][0])\n",
    "    #Access needed result \n",
    "    revisions = result_dict['query']['pages'][0]['revisions']\n",
    "    #Write to CSV\n",
    "    for revision in revisions:\n",
    "        record = [title]\n",
    "        for value in revision.values():\n",
    "            record.append(value)\n",
    "        with open('wiki2.csv', 'a', newline=\"\") as savefile:\n",
    "            writecsv = csv.writer(savefile)\n",
    "            writecsv.writerow(record)\n",
    "\n"
   ]
  }
 ],
 "metadata": {
  "interpreter": {
   "hash": "31f2aee4e71d21fbe5cf8b01ff0e069b9275f58929596ceb00d14d90e3e16cd6"
  },
  "kernelspec": {
   "display_name": "Python 3.8.2 64-bit",
   "language": "python",
   "name": "python3"
  },
  "language_info": {
   "codemirror_mode": {
    "name": "ipython",
    "version": 3
   },
   "file_extension": ".py",
   "mimetype": "text/x-python",
   "name": "python",
   "nbconvert_exporter": "python",
   "pygments_lexer": "ipython3",
   "version": "3.8.2"
  },
  "orig_nbformat": 4
 },
 "nbformat": 4,
 "nbformat_minor": 2
}
